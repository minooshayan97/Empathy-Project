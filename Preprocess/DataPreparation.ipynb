{
 "cells": [
  {
   "cell_type": "markdown",
   "metadata": {
    "id": "xKdHNVLC8cQV"
   },
   "source": [
    "# **Empathic Stories ++**"
   ]
  },
  {
   "cell_type": "markdown",
   "metadata": {
    "id": "CU1HA_6Pz0Py"
   },
   "source": [
    "## **Prepare Data**"
   ]
  },
  {
   "cell_type": "code",
   "execution_count": 180,
   "metadata": {
    "colab": {
     "base_uri": "https://localhost:8080/",
     "height": 493
    },
    "id": "HBl74Wudt8zo",
    "outputId": "8a4fe682-9e04-4ac0-9ffb-a2f9fdaa4a54"
   },
   "outputs": [
    {
     "data": {
      "text/html": [
       "<div>\n",
       "<style scoped>\n",
       "    .dataframe tbody tr th:only-of-type {\n",
       "        vertical-align: middle;\n",
       "    }\n",
       "\n",
       "    .dataframe tbody tr th {\n",
       "        vertical-align: top;\n",
       "    }\n",
       "\n",
       "    .dataframe thead th {\n",
       "        text-align: right;\n",
       "    }\n",
       "</style>\n",
       "<table border=\"1\" class=\"dataframe\">\n",
       "  <thead>\n",
       "    <tr style=\"text-align: right;\">\n",
       "      <th></th>\n",
       "      <th>Unnamed: 0</th>\n",
       "      <th>PID</th>\n",
       "      <th>STATION</th>\n",
       "      <th>SESSION</th>\n",
       "      <th>WARMUP</th>\n",
       "      <th>STORY_SHARE</th>\n",
       "      <th>STORY_RECEIVE</th>\n",
       "      <th>STORY_1</th>\n",
       "      <th>STORY_2</th>\n",
       "      <th>STORY_3</th>\n",
       "      <th>SELECTED_STORY</th>\n",
       "      <th>STORY_RATINGS</th>\n",
       "      <th>REFLECTION</th>\n",
       "      <th>CONCLUSION</th>\n",
       "      <th>ASSEMBLY_TRANSCRIPT</th>\n",
       "      <th>COMBINED</th>\n",
       "      <th>Condition</th>\n",
       "      <th>DURATION</th>\n",
       "      <th>Age</th>\n",
       "      <th>Gender</th>\n",
       "    </tr>\n",
       "  </thead>\n",
       "  <tbody>\n",
       "    <tr>\n",
       "      <th>0</th>\n",
       "      <td>0</td>\n",
       "      <td>P15</td>\n",
       "      <td>s06-n00-nuc-102</td>\n",
       "      <td>s001-001</td>\n",
       "      <td>[{'speaker': 'Jibo', 'speech': 'Hi Gina! How i...</td>\n",
       "      <td>[{'speaker': 'Jibo', 'speech': \"I'm glad to he...</td>\n",
       "      <td>[{'speaker': 'Jibo', 'speech': \"Story 1: I gre...</td>\n",
       "      <td>I grew up in Nanjing, China. When I was a baby...</td>\n",
       "      <td>On Thanksgiving Day -- that's the only day my ...</td>\n",
       "      <td>I didn't really plan on going to graduation. I...</td>\n",
       "      <td>1</td>\n",
       "      <td>[5, 3, 2]</td>\n",
       "      <td>[{'speaker': 'Jibo', 'speech': \"It's wonderful...</td>\n",
       "      <td>[{'speaker': 'Jibo', 'speech': \"That's truly i...</td>\n",
       "      <td>[{'speaker': 'A', 'start': 2090, 'end': 60958,...</td>\n",
       "      <td>Jibo: Hi Gina! How is your day going so far?\\n...</td>\n",
       "      <td>C</td>\n",
       "      <td>844.800000</td>\n",
       "      <td>63</td>\n",
       "      <td>Female</td>\n",
       "    </tr>\n",
       "    <tr>\n",
       "      <th>1</th>\n",
       "      <td>1</td>\n",
       "      <td>P15</td>\n",
       "      <td>s06-n00-nuc-102</td>\n",
       "      <td>s002-006</td>\n",
       "      <td>[{'speaker': 'Jibo', 'speech': 'Hey there! How...</td>\n",
       "      <td>[{'speaker': 'Jibo', 'speech': \"I'm glad to he...</td>\n",
       "      <td>[{'speaker': 'Jibo', 'speech': 'Story 1: We we...</td>\n",
       "      <td>We were rolling around selling tee shirts, and...</td>\n",
       "      <td>For 7 months, we'd been saving for a family va...</td>\n",
       "      <td>About two months ago, my family and I went to ...</td>\n",
       "      <td>3</td>\n",
       "      <td>[4, 3, 5]</td>\n",
       "      <td>[{'speaker': 'Jibo', 'speech': \"It's great tha...</td>\n",
       "      <td>[{'speaker': 'Jibo', 'speech': \"That's wonderf...</td>\n",
       "      <td>[{'speaker': 'A', 'start': 2010, 'end': 4078, ...</td>\n",
       "      <td>Jibo: Hey there! How was your day today?\\nUser...</td>\n",
       "      <td>C</td>\n",
       "      <td>644.666667</td>\n",
       "      <td>63</td>\n",
       "      <td>Female</td>\n",
       "    </tr>\n",
       "    <tr>\n",
       "      <th>2</th>\n",
       "      <td>2</td>\n",
       "      <td>P15</td>\n",
       "      <td>s06-n00-nuc-102</td>\n",
       "      <td>s003-002</td>\n",
       "      <td>[{'speaker': 'Jibo', 'speech': \"That's quite a...</td>\n",
       "      <td>[{'speaker': 'Jibo', 'speech': \"It's great tha...</td>\n",
       "      <td>[{'speaker': 'Jibo', 'speech': 'Story 1: I hav...</td>\n",
       "      <td>I have been dating Michelle for nearly three y...</td>\n",
       "      <td>The day started perfectly, with a great drive ...</td>\n",
       "      <td>A few years ago, I had a bit of a scare. My ap...</td>\n",
       "      <td>2</td>\n",
       "      <td>[3, 5, 4]</td>\n",
       "      <td>[{'speaker': 'Jibo', 'speech': \"It's great to ...</td>\n",
       "      <td>[{'speaker': 'Jibo', 'speech': \"That sounds ab...</td>\n",
       "      <td>[{'speaker': 'A', 'start': 5130, 'end': 18826,...</td>\n",
       "      <td>Jibo: That's quite an eventful story about get...</td>\n",
       "      <td>C</td>\n",
       "      <td>632.466667</td>\n",
       "      <td>63</td>\n",
       "      <td>Female</td>\n",
       "    </tr>\n",
       "  </tbody>\n",
       "</table>\n",
       "</div>"
      ],
      "text/plain": [
       "   Unnamed: 0  PID          STATION   SESSION  \\\n",
       "0           0  P15  s06-n00-nuc-102  s001-001   \n",
       "1           1  P15  s06-n00-nuc-102  s002-006   \n",
       "2           2  P15  s06-n00-nuc-102  s003-002   \n",
       "\n",
       "                                              WARMUP  \\\n",
       "0  [{'speaker': 'Jibo', 'speech': 'Hi Gina! How i...   \n",
       "1  [{'speaker': 'Jibo', 'speech': 'Hey there! How...   \n",
       "2  [{'speaker': 'Jibo', 'speech': \"That's quite a...   \n",
       "\n",
       "                                         STORY_SHARE  \\\n",
       "0  [{'speaker': 'Jibo', 'speech': \"I'm glad to he...   \n",
       "1  [{'speaker': 'Jibo', 'speech': \"I'm glad to he...   \n",
       "2  [{'speaker': 'Jibo', 'speech': \"It's great tha...   \n",
       "\n",
       "                                       STORY_RECEIVE  \\\n",
       "0  [{'speaker': 'Jibo', 'speech': \"Story 1: I gre...   \n",
       "1  [{'speaker': 'Jibo', 'speech': 'Story 1: We we...   \n",
       "2  [{'speaker': 'Jibo', 'speech': 'Story 1: I hav...   \n",
       "\n",
       "                                             STORY_1  \\\n",
       "0  I grew up in Nanjing, China. When I was a baby...   \n",
       "1  We were rolling around selling tee shirts, and...   \n",
       "2  I have been dating Michelle for nearly three y...   \n",
       "\n",
       "                                             STORY_2  \\\n",
       "0  On Thanksgiving Day -- that's the only day my ...   \n",
       "1  For 7 months, we'd been saving for a family va...   \n",
       "2  The day started perfectly, with a great drive ...   \n",
       "\n",
       "                                             STORY_3  SELECTED_STORY  \\\n",
       "0  I didn't really plan on going to graduation. I...               1   \n",
       "1  About two months ago, my family and I went to ...               3   \n",
       "2  A few years ago, I had a bit of a scare. My ap...               2   \n",
       "\n",
       "  STORY_RATINGS                                         REFLECTION  \\\n",
       "0     [5, 3, 2]  [{'speaker': 'Jibo', 'speech': \"It's wonderful...   \n",
       "1     [4, 3, 5]  [{'speaker': 'Jibo', 'speech': \"It's great tha...   \n",
       "2     [3, 5, 4]  [{'speaker': 'Jibo', 'speech': \"It's great to ...   \n",
       "\n",
       "                                          CONCLUSION  \\\n",
       "0  [{'speaker': 'Jibo', 'speech': \"That's truly i...   \n",
       "1  [{'speaker': 'Jibo', 'speech': \"That's wonderf...   \n",
       "2  [{'speaker': 'Jibo', 'speech': \"That sounds ab...   \n",
       "\n",
       "                                 ASSEMBLY_TRANSCRIPT  \\\n",
       "0  [{'speaker': 'A', 'start': 2090, 'end': 60958,...   \n",
       "1  [{'speaker': 'A', 'start': 2010, 'end': 4078, ...   \n",
       "2  [{'speaker': 'A', 'start': 5130, 'end': 18826,...   \n",
       "\n",
       "                                            COMBINED Condition    DURATION  \\\n",
       "0  Jibo: Hi Gina! How is your day going so far?\\n...         C  844.800000   \n",
       "1  Jibo: Hey there! How was your day today?\\nUser...         C  644.666667   \n",
       "2  Jibo: That's quite an eventful story about get...         C  632.466667   \n",
       "\n",
       "   Age  Gender  \n",
       "0   63  Female  \n",
       "1   63  Female  \n",
       "2   63  Female  "
      ]
     },
     "execution_count": 180,
     "metadata": {},
     "output_type": "execute_result"
    }
   ],
   "source": [
    "import pandas as pd\n",
    "\n",
    "ds = pd.read_csv(\"DatasetEmpathicStories++/DATASET_FINAL.csv\")\n",
    "ds.head(3)"
   ]
  },
  {
   "cell_type": "code",
   "execution_count": 181,
   "metadata": {
    "colab": {
     "base_uri": "https://localhost:8080/"
    },
    "id": "BXEaNFp2vm8V",
    "outputId": "5b6f473e-55e8-418d-f447-28afaf20f136"
   },
   "outputs": [
    {
     "name": "stdout",
     "output_type": "stream",
     "text": [
      "[2, 2, 2, 2, 2, 2, 2, 2, 2, 2, 2, 2, 2, 2, 2, 2, 2, 2, 2, 2, 2, 2, 2, 2, 2, 2, 2, 2, 2, 2, 2, 2, 2, 2, 2, 2, 2, 2, 2, 2, 2, 2, 2, 2, 2, 2, 2, 2, 2, 2, 2, 2, 2, 2, 2, 2, 2, 2, 2, 2, 2, 2, 2, 2, 2, 2, 2, 2, 2, 2, 2, 2, 2, 2, 2, 2, 2, 2, 2, 2, 2, 2, 2, 2, 2, 2, 2, 2, 2, 2, 2, 2, 2, 2, 2, 2, 2, 2, 2, 2, 2, 2, 2, 2, 2, 2, 2, 2, 2, 2, 2, 2, 2, 2, 2, 2, 2, 2, 2, 2, 2, 2, 2, 2, 2, 2, 2, 2, 2, 2, 2, 2, 2, 2, 2, 2, 2, 2, 2, 2, 2, 2, 2, 2, 2, 2, 2, 2, 2, 2, 2, 2, 2, 2, 2, 2, 2, 2, 2, 2, 2, 2, 2, 2, 2, 2, 2, 2, 2, 2, 2, 2, 2, 2, 2, 2, 2, 2, 2, 2, 2, 2, 2, 2, 2, 2, 2, 2, 2, 2, 2, 2, 2, 2, 2, 2, 2, 2, 2, 2, 2, 2, 2, 2, 2, 2, 2, 2, 2, 2, 2, 2, 2, 2, 2, 2, 2, 2, 2, 2, 2, 2, 2, 2, 2, 2, 2, 2, 2, 2, 2, 2, 2, 2, 2, 2, 2, 2, 2, 2, 2, 2, 2, 2, 2, 2, 2, 2, 2, 2, 2, 2, 2, 2, 2, 2, 2, 2, 2, 2, 2, 2, 2, 2, 2, 2, 2, 2]\n"
     ]
    }
   ],
   "source": [
    "a = [len(ds['STORY_SHARE'][i].split(\"{\\'speaker\\': \\'User\\', \\'speech\\': \")) for i in range(len(ds))]\n",
    "print(a)\n",
    "for i in a:\n",
    "    if i != 2:\n",
    "        print(i)"
   ]
  },
  {
   "cell_type": "code",
   "execution_count": 182,
   "metadata": {
    "colab": {
     "base_uri": "https://localhost:8080/"
    },
    "id": "m-XAGVYwucaP",
    "outputId": "8738c36c-c989-4b65-e7e1-0048639b0ffc"
   },
   "outputs": [
    {
     "name": "stdout",
     "output_type": "stream",
     "text": [
      "268\n",
      "My family. I had a family of four siblings, two older sisters. My brother, who was eleven years older than me, and then me. And there was kind of a dichotomy in the household. The two older sisters, they were accomplished, very beautiful. And they were in their own world. And I was sickly and a bookworm. Stayed at home all the time. And the only person there for me was my brother. And even though he was eleven years old, he always made time for me. And he did things with me every Saturday afternoon at the matinee on TV. We\\'d watch The Three Stooges. And we\\'d watch horror movies, those old Universal Horror movies. And he just made me feel special. And the song that reminds me of him most is \"Leaving on a Jet Plane\" because when I was nine years old, I attended his high school graduation. And no, I was seven years old. I\\'m sorry. I attended his graduation. And when he stepped off stage, he received his diploma. And then he received a notice from the army recruiter that he was drafted to go to Vietnam. So the song by Peter, Paul, and Mary, \"Leaving on a Jet Plane\", became the song my mother and I would always listen to and think of him. And it just was very poignant and it meant a lot. And it was just I was bullied and a very sad child. And he brought sunshine to my life and spent time with me and loved me. So I felt very happy. But that song my mother and I would always cry. So anyway, that was my first story to introduce you and to tell you a little bit about me. Fortunately, I\\'m a lot better but I just wanted to tell you that song means a lot to me and my brother meant a lot. So thank you for letting me share.\n"
     ]
    }
   ],
   "source": [
    "Shared_stories = [ds['STORY_SHARE'][i].split(\"{\\'speaker\\': \\'User\\', \\'speech\\': \")[1] for i in range(len(ds))]\n",
    "Shared_stories = [text.split(\", \\'timestamp\\':\")[0] for text in Shared_stories]\n",
    "Shared_stories = [text[1:-1] for text in Shared_stories]\n",
    "print(len(Shared_stories))\n",
    "print(Shared_stories[0])"
   ]
  },
  {
   "cell_type": "code",
   "execution_count": 183,
   "metadata": {
    "colab": {
     "base_uri": "https://localhost:8080/",
     "height": 143
    },
    "id": "QdJNBHCxxnkY",
    "outputId": "f47fa53e-5737-4c1c-a710-5581c214d37b"
   },
   "outputs": [
    {
     "data": {
      "text/html": [
       "<div>\n",
       "<style scoped>\n",
       "    .dataframe tbody tr th:only-of-type {\n",
       "        vertical-align: middle;\n",
       "    }\n",
       "\n",
       "    .dataframe tbody tr th {\n",
       "        vertical-align: top;\n",
       "    }\n",
       "\n",
       "    .dataframe thead th {\n",
       "        text-align: right;\n",
       "    }\n",
       "</style>\n",
       "<table border=\"1\" class=\"dataframe\">\n",
       "  <thead>\n",
       "    <tr style=\"text-align: right;\">\n",
       "      <th></th>\n",
       "      <th>Shared_stories</th>\n",
       "      <th>Response_strories</th>\n",
       "      <th>Rate</th>\n",
       "    </tr>\n",
       "  </thead>\n",
       "  <tbody>\n",
       "    <tr>\n",
       "      <th>0</th>\n",
       "      <td>My family. I had a family of four siblings, tw...</td>\n",
       "      <td>I grew up in Nanjing, China. When I was a baby...</td>\n",
       "      <td>5</td>\n",
       "    </tr>\n",
       "    <tr>\n",
       "      <th>1</th>\n",
       "      <td>Well, I\\'m going to tell you since my last sto...</td>\n",
       "      <td>We were rolling around selling tee shirts, and...</td>\n",
       "      <td>4</td>\n",
       "    </tr>\n",
       "    <tr>\n",
       "      <th>2</th>\n",
       "      <td>Okay. I was married when I was young, and unfo...</td>\n",
       "      <td>I have been dating Michelle for nearly three y...</td>\n",
       "      <td>3</td>\n",
       "    </tr>\n",
       "  </tbody>\n",
       "</table>\n",
       "</div>"
      ],
      "text/plain": [
       "                                      Shared_stories  \\\n",
       "0  My family. I had a family of four siblings, tw...   \n",
       "1  Well, I\\'m going to tell you since my last sto...   \n",
       "2  Okay. I was married when I was young, and unfo...   \n",
       "\n",
       "                                   Response_strories  Rate  \n",
       "0  I grew up in Nanjing, China. When I was a baby...     5  \n",
       "1  We were rolling around selling tee shirts, and...     4  \n",
       "2  I have been dating Michelle for nearly three y...     3  "
      ]
     },
     "execution_count": 183,
     "metadata": {},
     "output_type": "execute_result"
    }
   ],
   "source": [
    "annot1 = [ds['STORY_RATINGS'][i][1] for i in range(len(ds))]\n",
    "annot1 = [int(annot) for annot in annot1]\n",
    "data1 = pd.DataFrame({'Shared_stories': Shared_stories,\n",
    "                      'Response_strories' : ds['STORY_1'],\n",
    "                      'Rate' : annot1})\n",
    "data1.head(3)"
   ]
  },
  {
   "cell_type": "code",
   "execution_count": 185,
   "metadata": {
    "colab": {
     "base_uri": "https://localhost:8080/",
     "height": 143
    },
    "id": "r1PeHwrly3LS",
    "outputId": "829ff3d0-7eaf-4ec8-88cc-d4df8183a4a0"
   },
   "outputs": [
    {
     "data": {
      "text/html": [
       "<div>\n",
       "<style scoped>\n",
       "    .dataframe tbody tr th:only-of-type {\n",
       "        vertical-align: middle;\n",
       "    }\n",
       "\n",
       "    .dataframe tbody tr th {\n",
       "        vertical-align: top;\n",
       "    }\n",
       "\n",
       "    .dataframe thead th {\n",
       "        text-align: right;\n",
       "    }\n",
       "</style>\n",
       "<table border=\"1\" class=\"dataframe\">\n",
       "  <thead>\n",
       "    <tr style=\"text-align: right;\">\n",
       "      <th></th>\n",
       "      <th>Shared_stories</th>\n",
       "      <th>Response_strories</th>\n",
       "      <th>Rate</th>\n",
       "    </tr>\n",
       "  </thead>\n",
       "  <tbody>\n",
       "    <tr>\n",
       "      <th>0</th>\n",
       "      <td>My family. I had a family of four siblings, tw...</td>\n",
       "      <td>On Thanksgiving Day -- that's the only day my ...</td>\n",
       "      <td>3</td>\n",
       "    </tr>\n",
       "    <tr>\n",
       "      <th>1</th>\n",
       "      <td>Well, I\\'m going to tell you since my last sto...</td>\n",
       "      <td>For 7 months, we'd been saving for a family va...</td>\n",
       "      <td>3</td>\n",
       "    </tr>\n",
       "    <tr>\n",
       "      <th>2</th>\n",
       "      <td>Okay. I was married when I was young, and unfo...</td>\n",
       "      <td>The day started perfectly, with a great drive ...</td>\n",
       "      <td>5</td>\n",
       "    </tr>\n",
       "  </tbody>\n",
       "</table>\n",
       "</div>"
      ],
      "text/plain": [
       "                                      Shared_stories  \\\n",
       "0  My family. I had a family of four siblings, tw...   \n",
       "1  Well, I\\'m going to tell you since my last sto...   \n",
       "2  Okay. I was married when I was young, and unfo...   \n",
       "\n",
       "                                   Response_strories  Rate  \n",
       "0  On Thanksgiving Day -- that's the only day my ...     3  \n",
       "1  For 7 months, we'd been saving for a family va...     3  \n",
       "2  The day started perfectly, with a great drive ...     5  "
      ]
     },
     "execution_count": 185,
     "metadata": {},
     "output_type": "execute_result"
    }
   ],
   "source": [
    "annot2 = [ds['STORY_RATINGS'][i][4] for i in range(len(ds))]\n",
    "annot2 = [int(annot) for annot in annot2]\n",
    "data2 = pd.DataFrame({'Shared_stories': Shared_stories,\n",
    "                      'Response_strories' : ds['STORY_2'],\n",
    "                      'Rate' : annot2})\n",
    "data2.head(3)"
   ]
  },
  {
   "cell_type": "code",
   "execution_count": 186,
   "metadata": {
    "colab": {
     "base_uri": "https://localhost:8080/",
     "height": 143
    },
    "id": "ueRY4jxkzCIX",
    "outputId": "81c1aed5-e618-4dc3-b213-0d3916de7c09"
   },
   "outputs": [
    {
     "data": {
      "text/html": [
       "<div>\n",
       "<style scoped>\n",
       "    .dataframe tbody tr th:only-of-type {\n",
       "        vertical-align: middle;\n",
       "    }\n",
       "\n",
       "    .dataframe tbody tr th {\n",
       "        vertical-align: top;\n",
       "    }\n",
       "\n",
       "    .dataframe thead th {\n",
       "        text-align: right;\n",
       "    }\n",
       "</style>\n",
       "<table border=\"1\" class=\"dataframe\">\n",
       "  <thead>\n",
       "    <tr style=\"text-align: right;\">\n",
       "      <th></th>\n",
       "      <th>Shared_stories</th>\n",
       "      <th>Response_strories</th>\n",
       "      <th>Rate</th>\n",
       "    </tr>\n",
       "  </thead>\n",
       "  <tbody>\n",
       "    <tr>\n",
       "      <th>0</th>\n",
       "      <td>My family. I had a family of four siblings, tw...</td>\n",
       "      <td>I didn't really plan on going to graduation. I...</td>\n",
       "      <td>2</td>\n",
       "    </tr>\n",
       "    <tr>\n",
       "      <th>1</th>\n",
       "      <td>Well, I\\'m going to tell you since my last sto...</td>\n",
       "      <td>About two months ago, my family and I went to ...</td>\n",
       "      <td>5</td>\n",
       "    </tr>\n",
       "    <tr>\n",
       "      <th>2</th>\n",
       "      <td>Okay. I was married when I was young, and unfo...</td>\n",
       "      <td>A few years ago, I had a bit of a scare. My ap...</td>\n",
       "      <td>4</td>\n",
       "    </tr>\n",
       "  </tbody>\n",
       "</table>\n",
       "</div>"
      ],
      "text/plain": [
       "                                      Shared_stories  \\\n",
       "0  My family. I had a family of four siblings, tw...   \n",
       "1  Well, I\\'m going to tell you since my last sto...   \n",
       "2  Okay. I was married when I was young, and unfo...   \n",
       "\n",
       "                                   Response_strories  Rate  \n",
       "0  I didn't really plan on going to graduation. I...     2  \n",
       "1  About two months ago, my family and I went to ...     5  \n",
       "2  A few years ago, I had a bit of a scare. My ap...     4  "
      ]
     },
     "execution_count": 186,
     "metadata": {},
     "output_type": "execute_result"
    }
   ],
   "source": [
    "annot3 = [ds['STORY_RATINGS'][i][7] for i in range(len(ds))]\n",
    "annot3 = [int(annot) for annot in annot3]\n",
    "data3 = pd.DataFrame({'Shared_stories': Shared_stories,\n",
    "                      'Response_strories' : ds['STORY_3'],\n",
    "                      'Rate' : annot3})\n",
    "data3.head(3)"
   ]
  },
  {
   "cell_type": "code",
   "execution_count": 187,
   "metadata": {
    "colab": {
     "base_uri": "https://localhost:8080/",
     "height": 423
    },
    "id": "fje844nhzMuR",
    "outputId": "9e8548a8-5cd0-44ae-e8bc-70c31b99a249"
   },
   "outputs": [
    {
     "data": {
      "text/html": [
       "<div>\n",
       "<style scoped>\n",
       "    .dataframe tbody tr th:only-of-type {\n",
       "        vertical-align: middle;\n",
       "    }\n",
       "\n",
       "    .dataframe tbody tr th {\n",
       "        vertical-align: top;\n",
       "    }\n",
       "\n",
       "    .dataframe thead th {\n",
       "        text-align: right;\n",
       "    }\n",
       "</style>\n",
       "<table border=\"1\" class=\"dataframe\">\n",
       "  <thead>\n",
       "    <tr style=\"text-align: right;\">\n",
       "      <th></th>\n",
       "      <th>Shared_stories</th>\n",
       "      <th>Response_strories</th>\n",
       "      <th>Rate</th>\n",
       "    </tr>\n",
       "  </thead>\n",
       "  <tbody>\n",
       "    <tr>\n",
       "      <th>0</th>\n",
       "      <td>My family. I had a family of four siblings, tw...</td>\n",
       "      <td>I grew up in Nanjing, China. When I was a baby...</td>\n",
       "      <td>5</td>\n",
       "    </tr>\n",
       "    <tr>\n",
       "      <th>1</th>\n",
       "      <td>Well, I\\'m going to tell you since my last sto...</td>\n",
       "      <td>We were rolling around selling tee shirts, and...</td>\n",
       "      <td>4</td>\n",
       "    </tr>\n",
       "    <tr>\n",
       "      <th>2</th>\n",
       "      <td>Okay. I was married when I was young, and unfo...</td>\n",
       "      <td>I have been dating Michelle for nearly three y...</td>\n",
       "      <td>3</td>\n",
       "    </tr>\n",
       "    <tr>\n",
       "      <th>3</th>\n",
       "      <td>So yeah. So, I can share a story that happened...</td>\n",
       "      <td>My wife and I traveled to Italy and did an ama...</td>\n",
       "      <td>3</td>\n",
       "    </tr>\n",
       "    <tr>\n",
       "      <th>4</th>\n",
       "      <td>So I\\'d like to tell a story about how I reall...</td>\n",
       "      <td>I started off in physics, electrical engineeri...</td>\n",
       "      <td>2</td>\n",
       "    </tr>\n",
       "    <tr>\n",
       "      <th>...</th>\n",
       "      <td>...</td>\n",
       "      <td>...</td>\n",
       "      <td>...</td>\n",
       "    </tr>\n",
       "    <tr>\n",
       "      <th>263</th>\n",
       "      <td>Yeah, I\\'ve been reaching out to more people a...</td>\n",
       "      <td>I was dating this woman who was really adventu...</td>\n",
       "      <td>2</td>\n",
       "    </tr>\n",
       "    <tr>\n",
       "      <th>264</th>\n",
       "      <td>Like, I think one story or just like an intere...</td>\n",
       "      <td>Nineteen years ago, I started working for SLUG...</td>\n",
       "      <td>1</td>\n",
       "    </tr>\n",
       "    <tr>\n",
       "      <th>265</th>\n",
       "      <td>Yesterday, yesterday, we went to another frien...</td>\n",
       "      <td>I recently went on vacation with my family. We...</td>\n",
       "      <td>3</td>\n",
       "    </tr>\n",
       "    <tr>\n",
       "      <th>266</th>\n",
       "      <td>Hello. The story I'd like to tell is about my ...</td>\n",
       "      <td>I was treated for cancer this year, and since ...</td>\n",
       "      <td>1</td>\n",
       "    </tr>\n",
       "    <tr>\n",
       "      <th>267</th>\n",
       "      <td>One experience I'd like to share is that of tr...</td>\n",
       "      <td>I'm the first person out of four living genera...</td>\n",
       "      <td>3</td>\n",
       "    </tr>\n",
       "  </tbody>\n",
       "</table>\n",
       "<p>804 rows × 3 columns</p>\n",
       "</div>"
      ],
      "text/plain": [
       "                                        Shared_stories  \\\n",
       "0    My family. I had a family of four siblings, tw...   \n",
       "1    Well, I\\'m going to tell you since my last sto...   \n",
       "2    Okay. I was married when I was young, and unfo...   \n",
       "3    So yeah. So, I can share a story that happened...   \n",
       "4    So I\\'d like to tell a story about how I reall...   \n",
       "..                                                 ...   \n",
       "263  Yeah, I\\'ve been reaching out to more people a...   \n",
       "264  Like, I think one story or just like an intere...   \n",
       "265  Yesterday, yesterday, we went to another frien...   \n",
       "266  Hello. The story I'd like to tell is about my ...   \n",
       "267  One experience I'd like to share is that of tr...   \n",
       "\n",
       "                                     Response_strories  Rate  \n",
       "0    I grew up in Nanjing, China. When I was a baby...     5  \n",
       "1    We were rolling around selling tee shirts, and...     4  \n",
       "2    I have been dating Michelle for nearly three y...     3  \n",
       "3    My wife and I traveled to Italy and did an ama...     3  \n",
       "4    I started off in physics, electrical engineeri...     2  \n",
       "..                                                 ...   ...  \n",
       "263  I was dating this woman who was really adventu...     2  \n",
       "264  Nineteen years ago, I started working for SLUG...     1  \n",
       "265  I recently went on vacation with my family. We...     3  \n",
       "266  I was treated for cancer this year, and since ...     1  \n",
       "267  I'm the first person out of four living genera...     3  \n",
       "\n",
       "[804 rows x 3 columns]"
      ]
     },
     "execution_count": 187,
     "metadata": {},
     "output_type": "execute_result"
    }
   ],
   "source": [
    "df = pd.concat([data1, data2, data3])\n",
    "df"
   ]
  },
  {
   "cell_type": "code",
   "execution_count": 188,
   "metadata": {
    "id": "IFR_wxRrzVhY"
   },
   "outputs": [],
   "source": [
    "df.to_csv('Annotated_story_pairs.csv', index=False)"
   ]
  },
  {
   "cell_type": "markdown",
   "metadata": {
    "id": "Hth5sJO80Bmb"
   },
   "source": [
    "## **Dataset stats.**\n"
   ]
  },
  {
   "cell_type": "code",
   "execution_count": 189,
   "metadata": {
    "colab": {
     "base_uri": "https://localhost:8080/",
     "height": 143
    },
    "id": "66ieqFxCzymt",
    "outputId": "f9fba3e2-0440-4c2d-8465-2a690dbce877"
   },
   "outputs": [
    {
     "data": {
      "text/html": [
       "<div>\n",
       "<style scoped>\n",
       "    .dataframe tbody tr th:only-of-type {\n",
       "        vertical-align: middle;\n",
       "    }\n",
       "\n",
       "    .dataframe tbody tr th {\n",
       "        vertical-align: top;\n",
       "    }\n",
       "\n",
       "    .dataframe thead th {\n",
       "        text-align: right;\n",
       "    }\n",
       "</style>\n",
       "<table border=\"1\" class=\"dataframe\">\n",
       "  <thead>\n",
       "    <tr style=\"text-align: right;\">\n",
       "      <th></th>\n",
       "      <th>Shared_stories</th>\n",
       "      <th>Response_strories</th>\n",
       "      <th>Rate</th>\n",
       "    </tr>\n",
       "  </thead>\n",
       "  <tbody>\n",
       "    <tr>\n",
       "      <th>0</th>\n",
       "      <td>My family. I had a family of four siblings, tw...</td>\n",
       "      <td>I grew up in Nanjing, China. When I was a baby...</td>\n",
       "      <td>5</td>\n",
       "    </tr>\n",
       "    <tr>\n",
       "      <th>1</th>\n",
       "      <td>Well, I\\'m going to tell you since my last sto...</td>\n",
       "      <td>We were rolling around selling tee shirts, and...</td>\n",
       "      <td>4</td>\n",
       "    </tr>\n",
       "    <tr>\n",
       "      <th>2</th>\n",
       "      <td>Okay. I was married when I was young, and unfo...</td>\n",
       "      <td>I have been dating Michelle for nearly three y...</td>\n",
       "      <td>3</td>\n",
       "    </tr>\n",
       "  </tbody>\n",
       "</table>\n",
       "</div>"
      ],
      "text/plain": [
       "                                      Shared_stories  \\\n",
       "0  My family. I had a family of four siblings, tw...   \n",
       "1  Well, I\\'m going to tell you since my last sto...   \n",
       "2  Okay. I was married when I was young, and unfo...   \n",
       "\n",
       "                                   Response_strories  Rate  \n",
       "0  I grew up in Nanjing, China. When I was a baby...     5  \n",
       "1  We were rolling around selling tee shirts, and...     4  \n",
       "2  I have been dating Michelle for nearly three y...     3  "
      ]
     },
     "execution_count": 189,
     "metadata": {},
     "output_type": "execute_result"
    }
   ],
   "source": [
    "df = pd.read_csv('Annotated_story_pairs.csv')\n",
    "df.head(3)"
   ]
  },
  {
   "cell_type": "code",
   "execution_count": 190,
   "metadata": {
    "colab": {
     "base_uri": "https://localhost:8080/"
    },
    "id": "ltN6gj2F1tJp",
    "outputId": "19acf965-0e5e-4959-d522-f7cd4d5813bb"
   },
   "outputs": [
    {
     "name": "stdout",
     "output_type": "stream",
     "text": [
      "Mean: 3.300995024875622\n",
      "Standard Deviation: 1.2331853902394396\n",
      "Minimum: 1\n",
      "Maximum: 5\n"
     ]
    }
   ],
   "source": [
    "# Calculating mean, standard deviation, minimum, and maximum of the 'Rate' column\n",
    "mean_rate = df['Rate'].mean()\n",
    "std_rate = df['Rate'].std()\n",
    "min_rate = df['Rate'].min()\n",
    "max_rate = df['Rate'].max()\n",
    "\n",
    "print(f\"Mean: {mean_rate}\")\n",
    "print(f\"Standard Deviation: {std_rate}\")\n",
    "print(f\"Minimum: {min_rate}\")\n",
    "print(f\"Maximum: {max_rate}\")"
   ]
  },
  {
   "cell_type": "code",
   "execution_count": 191,
   "metadata": {
    "colab": {
     "base_uri": "https://localhost:8080/",
     "height": 410
    },
    "id": "QORYgAaK0XaB",
    "outputId": "a62da3ee-0816-4e69-c3d0-425b42159219"
   },
   "outputs": [
    {
     "data": {
      "image/png": "[encoded data removed]",
      "text/plain": [
       "<Figure size 600x400 with 1 Axes>"
      ]
     },
     "metadata": {},
     "output_type": "display_data"
    }
   ],
   "source": [
    "import matplotlib.pyplot as plt\n",
    "\n",
    "plt.figure(figsize=(6,4))\n",
    "counts, bins, patches = plt.hist(df['Rate'], bins=range(1, 7), edgecolor='black', align='left')\n",
    "plt.title('Ratings Distribution')\n",
    "plt.xlabel('Ratings')\n",
    "plt.ylabel('Frequency')\n",
    "plt.xticks(range(1, 6))  # Ratings from 1 to 5\n",
    "plt.grid(axis='y')\n",
    "\n",
    "for count, patch in zip(counts, patches):\n",
    "    plt.text(patch.get_x() + patch.get_width() / 2, count, int(count), ha='center', va='bottom')\n",
    "\n",
    "\n",
    "plt.show()"
   ]
  },
  {
   "cell_type": "code",
   "execution_count": 192,
   "metadata": {
    "colab": {
     "base_uri": "https://localhost:8080/"
    },
    "id": "4QF4snYO2fOQ",
    "outputId": "490ddc46-5508-4930-9a4b-53ff5f300cd5"
   },
   "outputs": [
    {
     "name": "stderr",
     "output_type": "stream",
     "text": [
      "[nltk_data] Downloading package punkt to\n",
      "[nltk_data]     C:\\Users\\hai_l\\AppData\\Roaming\\nltk_data...\n",
      "[nltk_data]   Package punkt is already up-to-date!\n"
     ]
    },
    {
     "name": "stdout",
     "output_type": "stream",
     "text": [
      "\n",
      "Shared Stories Stats: {'Count': 804, 'Mean': 332.7164179104478, 'Std': 317.92412243412554, 'Min': 24, 'Max': 1918}\n",
      "Response Stories Stats: {'Count': 804, 'Mean': 246.7189054726368, 'Std': 90.85453232026605, 'Min': 68, 'Max': 503}\n"
     ]
    }
   ],
   "source": [
    "import nltk\n",
    "from nltk.tokenize import word_tokenize\n",
    "\n",
    "# Download the tokenizer if not already available\n",
    "nltk.download('punkt')\n",
    "\n",
    "# Tokenizing and counting words for each row in both 'Shared_stories' and 'Response_strories' columns\n",
    "df['Shared_stories_word_count'] = df['Shared_stories'].apply(lambda x: len(word_tokenize(x)))\n",
    "df['Response_stories_word_count'] = df['Response_strories'].apply(lambda x: len(word_tokenize(x)))\n",
    "\n",
    "# Calculate word count statistics\n",
    "shared_stories_count = df['Shared_stories_word_count'].count()\n",
    "shared_stories_mean = df['Shared_stories_word_count'].mean()\n",
    "shared_stories_max = df['Shared_stories_word_count'].max()\n",
    "shared_stories_min = df['Shared_stories_word_count'].min()\n",
    "shared_stories_std = df['Shared_stories_word_count'].std()\n",
    "\n",
    "response_stories_count = df['Response_stories_word_count'].count()\n",
    "response_stories_mean = df['Response_stories_word_count'].mean()\n",
    "response_stories_max = df['Response_stories_word_count'].max()\n",
    "response_stories_min = df['Response_stories_word_count'].min()\n",
    "response_stories_std = df['Response_stories_word_count'].std()\n",
    "\n",
    "# Printing the results\n",
    "shared_stories_stats = {\n",
    "    \"Count\": shared_stories_count,\n",
    "    \"Mean\": shared_stories_mean,\n",
    "    \"Std\": shared_stories_std,\n",
    "    \"Min\": shared_stories_min,\n",
    "    \"Max\": shared_stories_max\n",
    "}\n",
    "\n",
    "response_stories_stats = {\n",
    "    \"Count\": response_stories_count,\n",
    "    \"Mean\": response_stories_mean,\n",
    "    \"Std\": response_stories_std,\n",
    "    \"Min\": response_stories_min,\n",
    "    \"Max\": response_stories_max\n",
    "}\n",
    "\n",
    "print()\n",
    "print(\"Shared Stories Stats:\", shared_stories_stats)\n",
    "print(\"Response Stories Stats:\", response_stories_stats)\n"
   ]
  },
  {
   "cell_type": "code",
   "execution_count": 221,
   "metadata": {
    "colab": {
     "base_uri": "https://localhost:8080/",
     "height": 503
    },
    "id": "1BnAoQ-V7qls",
    "outputId": "39ab931f-09fe-4cdf-b901-cb356574eac0"
   },
   "outputs": [
    {
     "data": {
      "image/png": "[encoded data removed]",
      "text/plain": [
       "<Figure size 400x600 with 1 Axes>"
      ]
     },
     "metadata": {},
     "output_type": "display_data"
    }
   ],
   "source": [
    "import seaborn as sns\n",
    "\n",
    "plt.figure(figsize=(4,6))\n",
    "sns.boxplot(df['Rate'])\n",
    "\n",
    "plt.show()"
   ]
  },
  {
   "cell_type": "code",
   "execution_count": 197,
   "metadata": {
    "colab": {
     "base_uri": "https://localhost:8080/",
     "height": 545
    },
    "id": "05P293kc5MV8",
    "outputId": "91fbaff1-0e9d-484a-a02c-a00676b44662"
   },
   "outputs": [
    {
     "data": {
      "image/png": "[encoded data removed]",
      "text/plain": [
       "<Figure size 400x600 with 1 Axes>"
      ]
     },
     "metadata": {},
     "output_type": "display_data"
    }
   ],
   "source": [
    "word_counts_df = pd.DataFrame({\n",
    "    'Shared Stories': df['Shared_stories_word_count'],\n",
    "    'Response Stories': df['Response_stories_word_count']\n",
    "})\n",
    "\n",
    "# Plotting a box plot\n",
    "plt.figure(figsize=(4,6))\n",
    "word_counts_df.boxplot()\n",
    "plt.title('Box Plot of Word Counts for Shared and Response Stories')\n",
    "plt.ylabel('Word Count')\n",
    "plt.grid(True)\n",
    "\n",
    "plt.show()"
   ]
  },
  {
   "cell_type": "code",
   "execution_count": 198,
   "metadata": {
    "colab": {
     "base_uri": "https://localhost:8080/",
     "height": 564
    },
    "id": "kWqpvWD_4aan",
    "outputId": "ff6756ec-3880-472a-c9b2-dd73d6f6088d"
   },
   "outputs": [
    {
     "data": {
      "image/png": "[encoded data removed]",
      "text/plain": [
       "<Figure size 800x600 with 1 Axes>"
      ]
     },
     "metadata": {},
     "output_type": "display_data"
    }
   ],
   "source": [
    "# Plotting word count statistics for Shared Stories and Response Stories\n",
    "\n",
    "# Creating a DataFrame for easy plotting\n",
    "plot_data = pd.DataFrame({\n",
    "    'Statistic': ['Mean', 'Std', 'Min', 'Max'],\n",
    "    'Shared_Stories': [shared_stories_mean, shared_stories_std, shared_stories_min, shared_stories_max],\n",
    "    'Response_Stories': [response_stories_mean, response_stories_std, response_stories_min, response_stories_max]\n",
    "})\n",
    "\n",
    "# Plotting\n",
    "plot_data.set_index('Statistic').plot(kind='bar', figsize=(8,6))\n",
    "plt.title('Word Count Statistics for Shared Stories and Response Stories')\n",
    "plt.ylabel('Word Count')\n",
    "plt.xticks(rotation=0)\n",
    "plt.grid(axis='y')\n",
    "\n",
    "plt.show()\n"
   ]
  },
  {
   "cell_type": "code",
   "execution_count": 199,
   "metadata": {
    "id": "Y_7BF3HU8KN2"
   },
   "outputs": [],
   "source": [
    "df.to_csv('Annotated_story_pairs1.csv', index=False)"
   ]
  },
  {
   "cell_type": "code",
   "execution_count": 264,
   "metadata": {
    "colab": {
     "base_uri": "https://localhost:8080/",
     "height": 143
    },
    "id": "VVnmA01NOsEE",
    "outputId": "9ba0a860-831c-4145-94be-dc8c68f4318a"
   },
   "outputs": [
    {
     "data": {
      "text/html": [
       "<div>\n",
       "<style scoped>\n",
       "    .dataframe tbody tr th:only-of-type {\n",
       "        vertical-align: middle;\n",
       "    }\n",
       "\n",
       "    .dataframe tbody tr th {\n",
       "        vertical-align: top;\n",
       "    }\n",
       "\n",
       "    .dataframe thead th {\n",
       "        text-align: right;\n",
       "    }\n",
       "</style>\n",
       "<table border=\"1\" class=\"dataframe\">\n",
       "  <thead>\n",
       "    <tr style=\"text-align: right;\">\n",
       "      <th></th>\n",
       "      <th>Shared_stories</th>\n",
       "      <th>Response_strories</th>\n",
       "      <th>Rate</th>\n",
       "      <th>Shared_stories_word_count</th>\n",
       "      <th>Response_stories_word_count</th>\n",
       "    </tr>\n",
       "  </thead>\n",
       "  <tbody>\n",
       "    <tr>\n",
       "      <th>0</th>\n",
       "      <td>My family. I had a family of four siblings, tw...</td>\n",
       "      <td>I grew up in Nanjing, China. When I was a baby...</td>\n",
       "      <td>5</td>\n",
       "      <td>377</td>\n",
       "      <td>230</td>\n",
       "    </tr>\n",
       "    <tr>\n",
       "      <th>1</th>\n",
       "      <td>Well, I\\'m going to tell you since my last sto...</td>\n",
       "      <td>We were rolling around selling tee shirts, and...</td>\n",
       "      <td>4</td>\n",
       "      <td>350</td>\n",
       "      <td>214</td>\n",
       "    </tr>\n",
       "    <tr>\n",
       "      <th>2</th>\n",
       "      <td>Okay. I was married when I was young, and unfo...</td>\n",
       "      <td>I have been dating Michelle for nearly three y...</td>\n",
       "      <td>3</td>\n",
       "      <td>346</td>\n",
       "      <td>263</td>\n",
       "    </tr>\n",
       "  </tbody>\n",
       "</table>\n",
       "</div>"
      ],
      "text/plain": [
       "                                      Shared_stories  \\\n",
       "0  My family. I had a family of four siblings, tw...   \n",
       "1  Well, I\\'m going to tell you since my last sto...   \n",
       "2  Okay. I was married when I was young, and unfo...   \n",
       "\n",
       "                                   Response_strories  Rate  \\\n",
       "0  I grew up in Nanjing, China. When I was a baby...     5   \n",
       "1  We were rolling around selling tee shirts, and...     4   \n",
       "2  I have been dating Michelle for nearly three y...     3   \n",
       "\n",
       "   Shared_stories_word_count  Response_stories_word_count  \n",
       "0                        377                          230  \n",
       "1                        350                          214  \n",
       "2                        346                          263  "
      ]
     },
     "execution_count": 264,
     "metadata": {},
     "output_type": "execute_result"
    }
   ],
   "source": [
    "df = pd.read_csv('Annotated_story_pairs1.csv')\n",
    "df.head(3)"
   ]
  },
  {
   "cell_type": "code",
   "execution_count": 265,
   "metadata": {
    "colab": {
     "base_uri": "https://localhost:8080/",
     "height": 143
    },
    "id": "tLZ3VkrNO2Fv",
    "outputId": "b548f0ce-ff55-43a7-edb1-10bc72d7063d"
   },
   "outputs": [
    {
     "data": {
      "text/html": [
       "<div>\n",
       "<style scoped>\n",
       "    .dataframe tbody tr th:only-of-type {\n",
       "        vertical-align: middle;\n",
       "    }\n",
       "\n",
       "    .dataframe tbody tr th {\n",
       "        vertical-align: top;\n",
       "    }\n",
       "\n",
       "    .dataframe thead th {\n",
       "        text-align: right;\n",
       "    }\n",
       "</style>\n",
       "<table border=\"1\" class=\"dataframe\">\n",
       "  <thead>\n",
       "    <tr style=\"text-align: right;\">\n",
       "      <th></th>\n",
       "      <th>Shared_stories</th>\n",
       "      <th>Response_strories</th>\n",
       "      <th>Rate</th>\n",
       "      <th>Shared_stories_word_count</th>\n",
       "      <th>Response_stories_word_count</th>\n",
       "    </tr>\n",
       "  </thead>\n",
       "  <tbody>\n",
       "    <tr>\n",
       "      <th>0</th>\n",
       "      <td>My family. I had a family of four siblings, tw...</td>\n",
       "      <td>I grew up in Nanjing, China. When I was a baby...</td>\n",
       "      <td>1.00</td>\n",
       "      <td>377</td>\n",
       "      <td>230</td>\n",
       "    </tr>\n",
       "    <tr>\n",
       "      <th>1</th>\n",
       "      <td>Well, I\\'m going to tell you since my last sto...</td>\n",
       "      <td>We were rolling around selling tee shirts, and...</td>\n",
       "      <td>0.75</td>\n",
       "      <td>350</td>\n",
       "      <td>214</td>\n",
       "    </tr>\n",
       "    <tr>\n",
       "      <th>2</th>\n",
       "      <td>Okay. I was married when I was young, and unfo...</td>\n",
       "      <td>I have been dating Michelle for nearly three y...</td>\n",
       "      <td>0.50</td>\n",
       "      <td>346</td>\n",
       "      <td>263</td>\n",
       "    </tr>\n",
       "  </tbody>\n",
       "</table>\n",
       "</div>"
      ],
      "text/plain": [
       "                                      Shared_stories  \\\n",
       "0  My family. I had a family of four siblings, tw...   \n",
       "1  Well, I\\'m going to tell you since my last sto...   \n",
       "2  Okay. I was married when I was young, and unfo...   \n",
       "\n",
       "                                   Response_strories  Rate  \\\n",
       "0  I grew up in Nanjing, China. When I was a baby...  1.00   \n",
       "1  We were rolling around selling tee shirts, and...  0.75   \n",
       "2  I have been dating Michelle for nearly three y...  0.50   \n",
       "\n",
       "   Shared_stories_word_count  Response_stories_word_count  \n",
       "0                        377                          230  \n",
       "1                        350                          214  \n",
       "2                        346                          263  "
      ]
     },
     "execution_count": 265,
     "metadata": {},
     "output_type": "execute_result"
    }
   ],
   "source": [
    "from sklearn.preprocessing import MinMaxScaler\n",
    "\n",
    "# Initializing the MinMaxScaler\n",
    "scaler = MinMaxScaler()\n",
    "\n",
    "# Scaling the 'example_column' to range 0-1\n",
    "df['Rate'] = scaler.fit_transform(df[['Rate']])\n",
    "df.head(3)"
   ]
  },
  {
   "cell_type": "code",
   "execution_count": 266,
   "metadata": {
    "id": "8Qm6EFvzO_38"
   },
   "outputs": [],
   "source": [
    "df.to_csv('Annotated_story_pairs2.csv', index=False)"
   ]
  },
  {
   "cell_type": "code",
   "execution_count": 4,
   "metadata": {},
   "outputs": [
    {
     "data": {
      "text/html": [
       "<div>\n",
       "<style scoped>\n",
       "    .dataframe tbody tr th:only-of-type {\n",
       "        vertical-align: middle;\n",
       "    }\n",
       "\n",
       "    .dataframe tbody tr th {\n",
       "        vertical-align: top;\n",
       "    }\n",
       "\n",
       "    .dataframe thead th {\n",
       "        text-align: right;\n",
       "    }\n",
       "</style>\n",
       "<table border=\"1\" class=\"dataframe\">\n",
       "  <thead>\n",
       "    <tr style=\"text-align: right;\">\n",
       "      <th></th>\n",
       "      <th>Shared_stories</th>\n",
       "      <th>Response_strories</th>\n",
       "      <th>Rate</th>\n",
       "      <th>Shared_stories_word_count</th>\n",
       "      <th>Response_stories_word_count</th>\n",
       "    </tr>\n",
       "  </thead>\n",
       "  <tbody>\n",
       "    <tr>\n",
       "      <th>0</th>\n",
       "      <td>My family. I had a family of four siblings, tw...</td>\n",
       "      <td>I grew up in Nanjing, China. When I was a baby...</td>\n",
       "      <td>1.00</td>\n",
       "      <td>377</td>\n",
       "      <td>230</td>\n",
       "    </tr>\n",
       "    <tr>\n",
       "      <th>1</th>\n",
       "      <td>Well, I\\'m going to tell you since my last sto...</td>\n",
       "      <td>We were rolling around selling tee shirts, and...</td>\n",
       "      <td>0.75</td>\n",
       "      <td>350</td>\n",
       "      <td>214</td>\n",
       "    </tr>\n",
       "    <tr>\n",
       "      <th>2</th>\n",
       "      <td>Okay. I was married when I was young, and unfo...</td>\n",
       "      <td>I have been dating Michelle for nearly three y...</td>\n",
       "      <td>0.50</td>\n",
       "      <td>346</td>\n",
       "      <td>263</td>\n",
       "    </tr>\n",
       "    <tr>\n",
       "      <th>3</th>\n",
       "      <td>So yeah. So, I can share a story that happened...</td>\n",
       "      <td>My wife and I traveled to Italy and did an ama...</td>\n",
       "      <td>0.50</td>\n",
       "      <td>279</td>\n",
       "      <td>279</td>\n",
       "    </tr>\n",
       "    <tr>\n",
       "      <th>4</th>\n",
       "      <td>So I\\'d like to tell a story about how I reall...</td>\n",
       "      <td>I started off in physics, electrical engineeri...</td>\n",
       "      <td>0.25</td>\n",
       "      <td>157</td>\n",
       "      <td>249</td>\n",
       "    </tr>\n",
       "  </tbody>\n",
       "</table>\n",
       "</div>"
      ],
      "text/plain": [
       "                                      Shared_stories  \\\n",
       "0  My family. I had a family of four siblings, tw...   \n",
       "1  Well, I\\'m going to tell you since my last sto...   \n",
       "2  Okay. I was married when I was young, and unfo...   \n",
       "3  So yeah. So, I can share a story that happened...   \n",
       "4  So I\\'d like to tell a story about how I reall...   \n",
       "\n",
       "                                   Response_strories  Rate  \\\n",
       "0  I grew up in Nanjing, China. When I was a baby...  1.00   \n",
       "1  We were rolling around selling tee shirts, and...  0.75   \n",
       "2  I have been dating Michelle for nearly three y...  0.50   \n",
       "3  My wife and I traveled to Italy and did an ama...  0.50   \n",
       "4  I started off in physics, electrical engineeri...  0.25   \n",
       "\n",
       "   Shared_stories_word_count  Response_stories_word_count  \n",
       "0                        377                          230  \n",
       "1                        350                          214  \n",
       "2                        346                          263  \n",
       "3                        279                          279  \n",
       "4                        157                          249  "
      ]
     },
     "execution_count": 4,
     "metadata": {},
     "output_type": "execute_result"
    }
   ],
   "source": [
    "import pandas as pd\n",
    "\n",
    "df = pd.read_csv('Annotated_story_pairs2.csv')\n",
    "df.head()"
   ]
  },
  {
   "cell_type": "code",
   "execution_count": 5,
   "metadata": {},
   "outputs": [
    {
     "data": {
      "text/html": [
       "<div>\n",
       "<style scoped>\n",
       "    .dataframe tbody tr th:only-of-type {\n",
       "        vertical-align: middle;\n",
       "    }\n",
       "\n",
       "    .dataframe tbody tr th {\n",
       "        vertical-align: top;\n",
       "    }\n",
       "\n",
       "    .dataframe thead th {\n",
       "        text-align: right;\n",
       "    }\n",
       "</style>\n",
       "<table border=\"1\" class=\"dataframe\">\n",
       "  <thead>\n",
       "    <tr style=\"text-align: right;\">\n",
       "      <th></th>\n",
       "      <th>Shared_stories</th>\n",
       "      <th>Response_strories</th>\n",
       "      <th>Rate</th>\n",
       "      <th>Shared_stories_word_count</th>\n",
       "      <th>Response_stories_word_count</th>\n",
       "    </tr>\n",
       "  </thead>\n",
       "  <tbody>\n",
       "    <tr>\n",
       "      <th>0</th>\n",
       "      <td>My family. I had a family of four siblings, tw...</td>\n",
       "      <td>I grew up in Nanjing, China. When I was a baby...</td>\n",
       "      <td>1.378594</td>\n",
       "      <td>377</td>\n",
       "      <td>230</td>\n",
       "    </tr>\n",
       "    <tr>\n",
       "      <th>1</th>\n",
       "      <td>Well, I\\'m going to tell you since my last sto...</td>\n",
       "      <td>We were rolling around selling tee shirts, and...</td>\n",
       "      <td>0.567182</td>\n",
       "      <td>350</td>\n",
       "      <td>214</td>\n",
       "    </tr>\n",
       "    <tr>\n",
       "      <th>2</th>\n",
       "      <td>Okay. I was married when I was young, and unfo...</td>\n",
       "      <td>I have been dating Michelle for nearly three y...</td>\n",
       "      <td>-0.244231</td>\n",
       "      <td>346</td>\n",
       "      <td>263</td>\n",
       "    </tr>\n",
       "  </tbody>\n",
       "</table>\n",
       "</div>"
      ],
      "text/plain": [
       "                                      Shared_stories  \\\n",
       "0  My family. I had a family of four siblings, tw...   \n",
       "1  Well, I\\'m going to tell you since my last sto...   \n",
       "2  Okay. I was married when I was young, and unfo...   \n",
       "\n",
       "                                   Response_strories      Rate  \\\n",
       "0  I grew up in Nanjing, China. When I was a baby...  1.378594   \n",
       "1  We were rolling around selling tee shirts, and...  0.567182   \n",
       "2  I have been dating Michelle for nearly three y... -0.244231   \n",
       "\n",
       "   Shared_stories_word_count  Response_stories_word_count  \n",
       "0                        377                          230  \n",
       "1                        350                          214  \n",
       "2                        346                          263  "
      ]
     },
     "execution_count": 5,
     "metadata": {},
     "output_type": "execute_result"
    }
   ],
   "source": [
    "from sklearn.preprocessing import StandardScaler\n",
    "\n",
    "# Initializing the MinMaxScaler\n",
    "scaler = StandardScaler()\n",
    "\n",
    "# Scaling the 'example_column' to range 0-1\n",
    "df['Rate'] = scaler.fit_transform(df[['Rate']])\n",
    "df.head(3)"
   ]
  },
  {
   "cell_type": "code",
   "execution_count": 6,
   "metadata": {},
   "outputs": [],
   "source": [
    "df.to_csv('Annotated_story_pairs2N.csv', index=False)"
   ]
  },
  {
   "cell_type": "markdown",
   "metadata": {
    "id": "82578x_y8yug"
   },
   "source": [
    "# **EPITOME**"
   ]
  },
  {
   "cell_type": "markdown",
   "metadata": {
    "id": "FyhY7J-M87Nt"
   },
   "source": [
    "## **Prepare Data**"
   ]
  },
  {
   "cell_type": "code",
   "execution_count": 27,
   "metadata": {},
   "outputs": [],
   "source": [
    "import pandas as pd"
   ]
  },
  {
   "cell_type": "code",
   "execution_count": 28,
   "metadata": {
    "colab": {
     "base_uri": "https://localhost:8080/",
     "height": 143
    },
    "id": "iRlwX1MV8yBJ",
    "outputId": "1c91f882-c3ad-4b2f-fb23-7f1e335efb23"
   },
   "outputs": [
    {
     "data": {
      "text/html": [
       "<div>\n",
       "<style scoped>\n",
       "    .dataframe tbody tr th:only-of-type {\n",
       "        vertical-align: middle;\n",
       "    }\n",
       "\n",
       "    .dataframe tbody tr th {\n",
       "        vertical-align: top;\n",
       "    }\n",
       "\n",
       "    .dataframe thead th {\n",
       "        text-align: right;\n",
       "    }\n",
       "</style>\n",
       "<table border=\"1\" class=\"dataframe\">\n",
       "  <thead>\n",
       "    <tr style=\"text-align: right;\">\n",
       "      <th></th>\n",
       "      <th>sp_id</th>\n",
       "      <th>rp_id</th>\n",
       "      <th>seeker_post</th>\n",
       "      <th>response_post</th>\n",
       "      <th>level</th>\n",
       "      <th>rationales</th>\n",
       "    </tr>\n",
       "  </thead>\n",
       "  <tbody>\n",
       "    <tr>\n",
       "      <th>0</th>\n",
       "      <td>65m92s</td>\n",
       "      <td>dgbdk7z</td>\n",
       "      <td>Help. Help me. I dunno what I'm doing anymore</td>\n",
       "      <td>That's pretty vague, do you not know what you'...</td>\n",
       "      <td>0</td>\n",
       "      <td>NaN</td>\n",
       "    </tr>\n",
       "    <tr>\n",
       "      <th>1</th>\n",
       "      <td>9ezsfi</td>\n",
       "      <td>e5t3oxh</td>\n",
       "      <td>I'm done saying I love you to her because I do...</td>\n",
       "      <td>idk what a Red pill means exactly but my advic...</td>\n",
       "      <td>0</td>\n",
       "      <td>NaN</td>\n",
       "    </tr>\n",
       "    <tr>\n",
       "      <th>2</th>\n",
       "      <td>6b2cmc</td>\n",
       "      <td>dhj8tcb</td>\n",
       "      <td>Always feel like I'm being criticized and mock...</td>\n",
       "      <td>I think it's social anxiety , that creates par...</td>\n",
       "      <td>0</td>\n",
       "      <td>NaN</td>\n",
       "    </tr>\n",
       "  </tbody>\n",
       "</table>\n",
       "</div>"
      ],
      "text/plain": [
       "    sp_id    rp_id                                        seeker_post  \\\n",
       "0  65m92s  dgbdk7z      Help. Help me. I dunno what I'm doing anymore   \n",
       "1  9ezsfi  e5t3oxh  I'm done saying I love you to her because I do...   \n",
       "2  6b2cmc  dhj8tcb  Always feel like I'm being criticized and mock...   \n",
       "\n",
       "                                       response_post  level rationales  \n",
       "0  That's pretty vague, do you not know what you'...      0        NaN  \n",
       "1  idk what a Red pill means exactly but my advic...      0        NaN  \n",
       "2  I think it's social anxiety , that creates par...      0        NaN  "
      ]
     },
     "execution_count": 28,
     "metadata": {},
     "output_type": "execute_result"
    }
   ],
   "source": [
    "df_re = pd.read_csv(\"EPITOME/datasets/emotional-reactions-reddit.csv\")\n",
    "df_re.head(3)"
   ]
  },
  {
   "cell_type": "code",
   "execution_count": 29,
   "metadata": {
    "colab": {
     "base_uri": "https://localhost:8080/"
    },
    "id": "u-rx9v4LHywa",
    "outputId": "da25cc72-6cc5-44e4-aa61-7643dc052bd0"
   },
   "outputs": [
    {
     "data": {
      "text/plain": [
       "level\n",
       "0    2037\n",
       "1     895\n",
       "2     152\n",
       "Name: count, dtype: int64"
      ]
     },
     "execution_count": 29,
     "metadata": {},
     "output_type": "execute_result"
    }
   ],
   "source": [
    "df_re['level'].value_counts()"
   ]
  },
  {
   "cell_type": "code",
   "execution_count": 30,
   "metadata": {
    "colab": {
     "base_uri": "https://localhost:8080/"
    },
    "id": "L3fj2dcPALAH",
    "outputId": "5ea05122-41b0-4062-d8e0-a1b396d89dcd"
   },
   "outputs": [
    {
     "name": "stdout",
     "output_type": "stream",
     "text": [
      "Mean: 0.38878080415045396\n",
      "Standard Deviation: 0.5799246698605037\n",
      "Minimum: 0\n",
      "Maximum: 2\n"
     ]
    }
   ],
   "source": [
    "# Calculating mean, standard deviation, minimum, and maximum of the 'Rate' column\n",
    "re_mean_level = df_re['level'].mean()\n",
    "re_std_level = df_re['level'].std()\n",
    "re_min_level = df_re['level'].min()\n",
    "re_max_level = df_re['level'].max()\n",
    "\n",
    "print(f\"Mean: {re_mean_level}\")\n",
    "print(f\"Standard Deviation: {re_std_level}\")\n",
    "print(f\"Minimum: {re_min_level}\")\n",
    "print(f\"Maximum: {re_max_level}\")"
   ]
  },
  {
   "cell_type": "code",
   "execution_count": 31,
   "metadata": {
    "colab": {
     "base_uri": "https://localhost:8080/",
     "height": 143
    },
    "id": "GMFgGxiD9MZI",
    "outputId": "fccc9f2b-7a39-45e2-8c23-2c1d55acf47b"
   },
   "outputs": [
    {
     "data": {
      "text/html": [
       "<div>\n",
       "<style scoped>\n",
       "    .dataframe tbody tr th:only-of-type {\n",
       "        vertical-align: middle;\n",
       "    }\n",
       "\n",
       "    .dataframe tbody tr th {\n",
       "        vertical-align: top;\n",
       "    }\n",
       "\n",
       "    .dataframe thead th {\n",
       "        text-align: right;\n",
       "    }\n",
       "</style>\n",
       "<table border=\"1\" class=\"dataframe\">\n",
       "  <thead>\n",
       "    <tr style=\"text-align: right;\">\n",
       "      <th></th>\n",
       "      <th>sp_id</th>\n",
       "      <th>rp_id</th>\n",
       "      <th>seeker_post</th>\n",
       "      <th>response_post</th>\n",
       "      <th>level</th>\n",
       "      <th>rationales</th>\n",
       "    </tr>\n",
       "  </thead>\n",
       "  <tbody>\n",
       "    <tr>\n",
       "      <th>0</th>\n",
       "      <td>65m92s</td>\n",
       "      <td>dgbdk7z</td>\n",
       "      <td>Help. Help me. I dunno what I'm doing anymore</td>\n",
       "      <td>That's pretty vague, do you not know what you'...</td>\n",
       "      <td>2</td>\n",
       "      <td>do you not know what you're doing in regards t...</td>\n",
       "    </tr>\n",
       "    <tr>\n",
       "      <th>1</th>\n",
       "      <td>9ezsfi</td>\n",
       "      <td>e5t3oxh</td>\n",
       "      <td>I'm done saying I love you to her because I do...</td>\n",
       "      <td>idk what a Red pill means exactly but my advic...</td>\n",
       "      <td>0</td>\n",
       "      <td>NaN</td>\n",
       "    </tr>\n",
       "    <tr>\n",
       "      <th>2</th>\n",
       "      <td>6b2cmc</td>\n",
       "      <td>dhj8tcb</td>\n",
       "      <td>Always feel like I'm being criticized and mock...</td>\n",
       "      <td>I think it's social anxiety , that creates par...</td>\n",
       "      <td>0</td>\n",
       "      <td>NaN</td>\n",
       "    </tr>\n",
       "  </tbody>\n",
       "</table>\n",
       "</div>"
      ],
      "text/plain": [
       "    sp_id    rp_id                                        seeker_post  \\\n",
       "0  65m92s  dgbdk7z      Help. Help me. I dunno what I'm doing anymore   \n",
       "1  9ezsfi  e5t3oxh  I'm done saying I love you to her because I do...   \n",
       "2  6b2cmc  dhj8tcb  Always feel like I'm being criticized and mock...   \n",
       "\n",
       "                                       response_post  level  \\\n",
       "0  That's pretty vague, do you not know what you'...      2   \n",
       "1  idk what a Red pill means exactly but my advic...      0   \n",
       "2  I think it's social anxiety , that creates par...      0   \n",
       "\n",
       "                                          rationales  \n",
       "0  do you not know what you're doing in regards t...  \n",
       "1                                                NaN  \n",
       "2                                                NaN  "
      ]
     },
     "execution_count": 31,
     "metadata": {},
     "output_type": "execute_result"
    }
   ],
   "source": [
    "df_ex = pd.read_csv(\"EPITOME/datasets/explorations-reddit.csv\")\n",
    "df_ex.head(3)"
   ]
  },
  {
   "cell_type": "code",
   "execution_count": 32,
   "metadata": {
    "colab": {
     "base_uri": "https://localhost:8080/"
    },
    "id": "rsSBRbsxIWMu",
    "outputId": "10a4c4f6-ef74-4614-8a3d-1125538ed2e2"
   },
   "outputs": [
    {
     "data": {
      "text/plain": [
       "level\n",
       "0    2604\n",
       "2     376\n",
       "1     104\n",
       "Name: count, dtype: int64"
      ]
     },
     "execution_count": 32,
     "metadata": {},
     "output_type": "execute_result"
    }
   ],
   "source": [
    "df_ex['level'].value_counts()"
   ]
  },
  {
   "cell_type": "code",
   "execution_count": 33,
   "metadata": {
    "colab": {
     "base_uri": "https://localhost:8080/"
    },
    "id": "QfJPEhwkAdac",
    "outputId": "5f70c477-8cee-482a-a1ec-45b812e29f1b"
   },
   "outputs": [
    {
     "name": "stdout",
     "output_type": "stream",
     "text": [
      "Mean: 0.2775616083009079\n",
      "Standard Deviation: 0.6667116800040226\n",
      "Minimum: 0\n",
      "Maximum: 2\n"
     ]
    }
   ],
   "source": [
    "# Calculating mean, standard deviation, minimum, and maximum of the 'Rate' column\n",
    "ex_mean_level = df_ex['level'].mean()\n",
    "ex_std_level = df_ex['level'].std()\n",
    "ex_min_level = df_ex['level'].min()\n",
    "ex_max_level = df_ex['level'].max()\n",
    "\n",
    "print(f\"Mean: {ex_mean_level}\")\n",
    "print(f\"Standard Deviation: {ex_std_level}\")\n",
    "print(f\"Minimum: {ex_min_level}\")\n",
    "print(f\"Maximum: {ex_max_level}\")"
   ]
  },
  {
   "cell_type": "code",
   "execution_count": 34,
   "metadata": {
    "colab": {
     "base_uri": "https://localhost:8080/",
     "height": 143
    },
    "id": "C11fkpMj9S2H",
    "outputId": "89d23e71-49e3-47f9-bed3-72db1bb3ce31"
   },
   "outputs": [
    {
     "data": {
      "text/html": [
       "<div>\n",
       "<style scoped>\n",
       "    .dataframe tbody tr th:only-of-type {\n",
       "        vertical-align: middle;\n",
       "    }\n",
       "\n",
       "    .dataframe tbody tr th {\n",
       "        vertical-align: top;\n",
       "    }\n",
       "\n",
       "    .dataframe thead th {\n",
       "        text-align: right;\n",
       "    }\n",
       "</style>\n",
       "<table border=\"1\" class=\"dataframe\">\n",
       "  <thead>\n",
       "    <tr style=\"text-align: right;\">\n",
       "      <th></th>\n",
       "      <th>sp_id</th>\n",
       "      <th>rp_id</th>\n",
       "      <th>seeker_post</th>\n",
       "      <th>response_post</th>\n",
       "      <th>level</th>\n",
       "      <th>rationales</th>\n",
       "    </tr>\n",
       "  </thead>\n",
       "  <tbody>\n",
       "    <tr>\n",
       "      <th>0</th>\n",
       "      <td>65m92s</td>\n",
       "      <td>dgbdk7z</td>\n",
       "      <td>Help. Help me. I dunno what I'm doing anymore</td>\n",
       "      <td>That's pretty vague, do you not know what you'...</td>\n",
       "      <td>0</td>\n",
       "      <td>NaN</td>\n",
       "    </tr>\n",
       "    <tr>\n",
       "      <th>1</th>\n",
       "      <td>9ezsfi</td>\n",
       "      <td>e5t3oxh</td>\n",
       "      <td>I'm done saying I love you to her because I do...</td>\n",
       "      <td>idk what a Red pill means exactly but my advic...</td>\n",
       "      <td>0</td>\n",
       "      <td>NaN</td>\n",
       "    </tr>\n",
       "    <tr>\n",
       "      <th>2</th>\n",
       "      <td>6b2cmc</td>\n",
       "      <td>dhj8tcb</td>\n",
       "      <td>Always feel like I'm being criticized and mock...</td>\n",
       "      <td>I think it's social anxiety , that creates par...</td>\n",
       "      <td>2</td>\n",
       "      <td>unless I'm wrong but that's how I feel|</td>\n",
       "    </tr>\n",
       "  </tbody>\n",
       "</table>\n",
       "</div>"
      ],
      "text/plain": [
       "    sp_id    rp_id                                        seeker_post  \\\n",
       "0  65m92s  dgbdk7z      Help. Help me. I dunno what I'm doing anymore   \n",
       "1  9ezsfi  e5t3oxh  I'm done saying I love you to her because I do...   \n",
       "2  6b2cmc  dhj8tcb  Always feel like I'm being criticized and mock...   \n",
       "\n",
       "                                       response_post  level  \\\n",
       "0  That's pretty vague, do you not know what you'...      0   \n",
       "1  idk what a Red pill means exactly but my advic...      0   \n",
       "2  I think it's social anxiety , that creates par...      2   \n",
       "\n",
       "                                rationales  \n",
       "0                                      NaN  \n",
       "1                                      NaN  \n",
       "2  unless I'm wrong but that's how I feel|  "
      ]
     },
     "execution_count": 34,
     "metadata": {},
     "output_type": "execute_result"
    }
   ],
   "source": [
    "df_in = pd.read_csv(\"EPITOME/datasets/interpretations-reddit.csv\")\n",
    "df_in.head(3)"
   ]
  },
  {
   "cell_type": "code",
   "execution_count": 35,
   "metadata": {
    "colab": {
     "base_uri": "https://localhost:8080/"
    },
    "id": "4nQOTm0uIYnx",
    "outputId": "6be2c116-6c74-405c-b6dd-3341f188b688"
   },
   "outputs": [
    {
     "data": {
      "text/plain": [
       "level\n",
       "0    1626\n",
       "2    1344\n",
       "1     114\n",
       "Name: count, dtype: int64"
      ]
     },
     "execution_count": 35,
     "metadata": {},
     "output_type": "execute_result"
    }
   ],
   "source": [
    "df_in['level'].value_counts()"
   ]
  },
  {
   "cell_type": "code",
   "execution_count": 36,
   "metadata": {
    "colab": {
     "base_uri": "https://localhost:8080/"
    },
    "id": "ZypMrKNOAkQc",
    "outputId": "804ec726-dd5e-46ba-d03c-d0d014f2adf6"
   },
   "outputs": [
    {
     "name": "stdout",
     "output_type": "stream",
     "text": [
      "Mean: 0.9085603112840467\n",
      "Standard Deviation: 0.9772325517476877\n",
      "Minimum: 0\n",
      "Maximum: 2\n"
     ]
    }
   ],
   "source": [
    "# Calculating mean, standard deviation, minimum, and maximum of the 'Rate' column\n",
    "in_mean_level = df_in['level'].mean()\n",
    "in_std_level = df_in['level'].std()\n",
    "in_min_level = df_in['level'].min()\n",
    "in_max_level = df_in['level'].max()\n",
    "\n",
    "print(f\"Mean: {in_mean_level}\")\n",
    "print(f\"Standard Deviation: {in_std_level}\")\n",
    "print(f\"Minimum: {in_min_level}\")\n",
    "print(f\"Maximum: {in_max_level}\")"
   ]
  },
  {
   "cell_type": "code",
   "execution_count": 37,
   "metadata": {},
   "outputs": [],
   "source": [
    "import matplotlib.pyplot as plt"
   ]
  },
  {
   "cell_type": "code",
   "execution_count": 38,
   "metadata": {
    "colab": {
     "base_uri": "https://localhost:8080/",
     "height": 1000
    },
    "id": "4Xn3NZCvCzeE",
    "outputId": "63803c09-55d0-4643-8ed3-fca35a721f41"
   },
   "outputs": [
    {
     "data": {
      "image/png": "[encoded data removed]",
      "text/plain": [
       "<Figure size 600x1000 with 3 Axes>"
      ]
     },
     "metadata": {},
     "output_type": "display_data"
    }
   ],
   "source": [
    "plt.figure(figsize=(6, 10))\n",
    "\n",
    "# First subplot\n",
    "plt.subplot(3, 1, 1)\n",
    "counts_re, bins_re, patches_re = plt.hist(df_re['level'], bins=range(0, 4), edgecolor='black', align='left')\n",
    "plt.title('Level Distribution for df_re')\n",
    "plt.xlabel('Levelss')\n",
    "plt.ylabel('Frequency')\n",
    "plt.xticks(range(0, 3))\n",
    "plt.grid(axis='y')\n",
    "for count, patch in zip(counts_re, patches_re):\n",
    "    plt.text(patch.get_x() + patch.get_width() / 2, count, int(count), ha='center', va='bottom')\n",
    "\n",
    "# Second subplot\n",
    "plt.subplot(3, 1, 2)\n",
    "counts_ex, bins_ex, patches_ex = plt.hist(df_ex['level'], bins=range(0, 4), edgecolor='black', align='left')\n",
    "plt.title('Level Distribution for df_ex')\n",
    "plt.xlabel('Ratings')\n",
    "plt.ylabel('Frequency')\n",
    "plt.xticks(range(0, 3))\n",
    "plt.grid(axis='y')\n",
    "for count, patch in zip(counts_ex, patches_ex):\n",
    "    plt.text(patch.get_x() + patch.get_width() / 2, count, int(count), ha='center', va='bottom')\n",
    "\n",
    "# Third subplot\n",
    "plt.subplot(3, 1, 3)\n",
    "counts_in, bins_in, patches_in = plt.hist(df_in['level'], bins=range(0, 4), edgecolor='black', align='left')\n",
    "plt.title('Level Distribution for df_in')\n",
    "plt.xlabel('Ratings')\n",
    "plt.ylabel('Frequency')\n",
    "plt.xticks(range(0, 3))\n",
    "plt.grid(axis='y')\n",
    "for count, patch in zip(counts_in, patches_in):\n",
    "    plt.text(patch.get_x() + patch.get_width() / 2, count, int(count), ha='center', va='bottom')\n",
    "\n",
    "plt.tight_layout()\n",
    "plt.show()\n"
   ]
  },
  {
   "cell_type": "code",
   "execution_count": 39,
   "metadata": {
    "colab": {
     "base_uri": "https://localhost:8080/",
     "height": 545
    },
    "id": "QKEihtEc-oyT",
    "outputId": "6fb0013e-52a5-40d7-d4c4-b5b4f07f5ae7"
   },
   "outputs": [
    {
     "data": {
      "image/png": "[encoded data removed]",
      "text/plain": [
       "<Figure size 800x600 with 1 Axes>"
      ]
     },
     "metadata": {},
     "output_type": "display_data"
    }
   ],
   "source": [
    "import seaborn as sns\n",
    "\n",
    "level_counts_df = pd.DataFrame({\n",
    "    'Emotional Reaction': df_re['level'],\n",
    "    'Explorations': df_ex['level'],\n",
    "    'Interpretations': df_in['level']\n",
    "})\n",
    "\n",
    "# Plotting a box plot\n",
    "plt.figure(figsize=(8,6))\n",
    "sns.boxplot(level_counts_df)\n",
    "plt.title('Box Plot of Word Counts for Shared and Response Stories')\n",
    "plt.ylabel('Word Count')\n",
    "plt.grid(True)\n",
    "\n",
    "plt.show()"
   ]
  },
  {
   "cell_type": "markdown",
   "metadata": {
    "id": "K4DVbYMCDKAE"
   },
   "source": [
    "## **Merge**"
   ]
  },
  {
   "cell_type": "code",
   "execution_count": 40,
   "metadata": {},
   "outputs": [
    {
     "data": {
      "text/html": [
       "<div>\n",
       "<style scoped>\n",
       "    .dataframe tbody tr th:only-of-type {\n",
       "        vertical-align: middle;\n",
       "    }\n",
       "\n",
       "    .dataframe tbody tr th {\n",
       "        vertical-align: top;\n",
       "    }\n",
       "\n",
       "    .dataframe thead th {\n",
       "        text-align: right;\n",
       "    }\n",
       "</style>\n",
       "<table border=\"1\" class=\"dataframe\">\n",
       "  <thead>\n",
       "    <tr style=\"text-align: right;\">\n",
       "      <th></th>\n",
       "      <th>seeker_post</th>\n",
       "      <th>response_post</th>\n",
       "      <th>level</th>\n",
       "    </tr>\n",
       "  </thead>\n",
       "  <tbody>\n",
       "    <tr>\n",
       "      <th>0</th>\n",
       "      <td>Help. Help me. I dunno what I'm doing anymore</td>\n",
       "      <td>That's pretty vague, do you not know what you'...</td>\n",
       "      <td>2</td>\n",
       "    </tr>\n",
       "    <tr>\n",
       "      <th>1</th>\n",
       "      <td>I'm done saying I love you to her because I do...</td>\n",
       "      <td>idk what a Red pill means exactly but my advic...</td>\n",
       "      <td>0</td>\n",
       "    </tr>\n",
       "    <tr>\n",
       "      <th>2</th>\n",
       "      <td>Always feel like I'm being criticized and mock...</td>\n",
       "      <td>I think it's social anxiety , that creates par...</td>\n",
       "      <td>2</td>\n",
       "    </tr>\n",
       "  </tbody>\n",
       "</table>\n",
       "</div>"
      ],
      "text/plain": [
       "                                         seeker_post  \\\n",
       "0      Help. Help me. I dunno what I'm doing anymore   \n",
       "1  I'm done saying I love you to her because I do...   \n",
       "2  Always feel like I'm being criticized and mock...   \n",
       "\n",
       "                                       response_post  level  \n",
       "0  That's pretty vague, do you not know what you'...      2  \n",
       "1  idk what a Red pill means exactly but my advic...      0  \n",
       "2  I think it's social anxiety , that creates par...      2  "
      ]
     },
     "execution_count": 40,
     "metadata": {},
     "output_type": "execute_result"
    }
   ],
   "source": [
    "df = df_re[['seeker_post', 'response_post']].copy()\n",
    "df['level'] = df_re['level'] + df_ex['level'] + df_in['level']\n",
    "df.head(3)"
   ]
  },
  {
   "cell_type": "code",
   "execution_count": 41,
   "metadata": {
    "colab": {
     "base_uri": "https://localhost:8080/"
    },
    "id": "e6qKS3flMKoj",
    "outputId": "ae0dc893-18c9-4e26-d47d-b38c129aa6f0"
   },
   "outputs": [
    {
     "data": {
      "text/plain": [
       "level\n",
       "2    1287\n",
       "0     703\n",
       "1     586\n",
       "3     359\n",
       "4     127\n",
       "5      20\n",
       "6       2\n",
       "Name: count, dtype: int64"
      ]
     },
     "execution_count": 41,
     "metadata": {},
     "output_type": "execute_result"
    }
   ],
   "source": [
    "df['level'].value_counts()"
   ]
  },
  {
   "cell_type": "code",
   "execution_count": 43,
   "metadata": {},
   "outputs": [
    {
     "name": "stderr",
     "output_type": "stream",
     "text": [
      "C:\\Users\\hai_l\\AppData\\Local\\Temp\\ipykernel_19108\\690480235.py:1: FutureWarning: ChainedAssignmentError: behaviour will change in pandas 3.0!\n",
      "You are setting values through chained assignment. Currently this works in certain cases, but when using Copy-on-Write (which will become the default behaviour in pandas 3.0) this will never work to update the original DataFrame or Series, because the intermediate object on which we are setting values will behave as a copy.\n",
      "A typical example is when you are setting values in a column of a DataFrame, like:\n",
      "\n",
      "df[\"col\"][row_indexer] = value\n",
      "\n",
      "Use `df.loc[row_indexer, \"col\"] = values` instead, to perform the assignment in a single step and ensure this keeps updating the original `df`.\n",
      "\n",
      "See the caveats in the documentation: https://pandas.pydata.org/pandas-docs/stable/user_guide/indexing.html#returning-a-view-versus-a-copy\n",
      "\n",
      "  df['level'].iloc[df['level'] > 3] = 3\n",
      "C:\\Users\\hai_l\\AppData\\Local\\Temp\\ipykernel_19108\\690480235.py:1: SettingWithCopyWarning: \n",
      "A value is trying to be set on a copy of a slice from a DataFrame\n",
      "\n",
      "See the caveats in the documentation: https://pandas.pydata.org/pandas-docs/stable/user_guide/indexing.html#returning-a-view-versus-a-copy\n",
      "  df['level'].iloc[df['level'] > 3] = 3\n"
     ]
    },
    {
     "data": {
      "text/plain": [
       "level\n",
       "2    1287\n",
       "0     703\n",
       "1     586\n",
       "3     508\n",
       "Name: count, dtype: int64"
      ]
     },
     "execution_count": 43,
     "metadata": {},
     "output_type": "execute_result"
    }
   ],
   "source": [
    "df['level'].iloc[df['level'] > 3] = 3\n",
    "df['level'].value_counts()"
   ]
  },
  {
   "cell_type": "code",
   "execution_count": 45,
   "metadata": {
    "id": "o5_zKqo3L1Pu"
   },
   "outputs": [],
   "source": [
    "df.to_csv('EPITOME_pairs.csv', index=False)"
   ]
  },
  {
   "cell_type": "code",
   "execution_count": 249,
   "metadata": {
    "colab": {
     "base_uri": "https://localhost:8080/"
    },
    "id": "jn0oQbVWLKQ1",
    "outputId": "d706896c-d13f-48fa-c3ff-536eb9271e38"
   },
   "outputs": [
    {
     "name": "stderr",
     "output_type": "stream",
     "text": [
      "[nltk_data] Downloading package punkt to\n",
      "[nltk_data]     C:\\Users\\hai_l\\AppData\\Roaming\\nltk_data...\n",
      "[nltk_data]   Package punkt is already up-to-date!\n"
     ]
    },
    {
     "name": "stdout",
     "output_type": "stream",
     "text": [
      "\n",
      "seeker Post Stats: {'Count': 3084, 'Mean': 40.71271076523995, 'Std': 28.727366454960013, 'Min': 7, 'Max': 250}\n",
      "Response Post Stats: {'Count': 3084, 'Mean': 54.07619974059663, 'Std': 78.50276081400168, 'Min': 5, 'Max': 2038}\n"
     ]
    }
   ],
   "source": [
    "import nltk\n",
    "from nltk.tokenize import word_tokenize\n",
    "\n",
    "# Download the tokenizer if not already available\n",
    "nltk.download('punkt')\n",
    "\n",
    "df['seeker_post_word_count'] = df['seeker_post'].apply(lambda x: len(word_tokenize(x)))\n",
    "df['response_post_word_count'] = df['response_post'].apply(lambda x: len(word_tokenize(x)))\n",
    "\n",
    "# Calculate word count statistics\n",
    "seeker_post_count = df['seeker_post_word_count'].count()\n",
    "seeker_post_mean = df['seeker_post_word_count'].mean()\n",
    "seeker_post_max = df['seeker_post_word_count'].max()\n",
    "seeker_post_min = df['seeker_post_word_count'].min()\n",
    "seeker_post_std = df['seeker_post_word_count'].std()\n",
    "\n",
    "response_post_count = df['response_post_word_count'].count()\n",
    "response_post_mean = df['response_post_word_count'].mean()\n",
    "response_post_max = df['response_post_word_count'].max()\n",
    "response_post_min = df['response_post_word_count'].min()\n",
    "response_post_std = df['response_post_word_count'].std()\n",
    "\n",
    "# Printing the results\n",
    "seeker_post_stats = {\n",
    "    \"Count\": seeker_post_count,\n",
    "    \"Mean\": seeker_post_mean,\n",
    "    \"Std\": seeker_post_std,\n",
    "    \"Min\": seeker_post_min,\n",
    "    \"Max\": seeker_post_max\n",
    "}\n",
    "\n",
    "response_post_stats = {\n",
    "    \"Count\": response_post_count,\n",
    "    \"Mean\": response_post_mean,\n",
    "    \"Std\": response_post_std,\n",
    "    \"Min\": response_post_min,\n",
    "    \"Max\": response_post_max\n",
    "}\n",
    "\n",
    "print()\n",
    "print(\"seeker Post Stats:\", seeker_post_stats)\n",
    "print(\"Response Post Stats:\", response_post_stats)\n"
   ]
  },
  {
   "cell_type": "code",
   "execution_count": 250,
   "metadata": {
    "colab": {
     "base_uri": "https://localhost:8080/",
     "height": 564
    },
    "id": "18aBw04ALNY7",
    "outputId": "bef21150-4dd5-425d-8ee2-81f0095df4ff"
   },
   "outputs": [
    {
     "data": {
      "image/png": "[encoded data removed]",
      "text/plain": [
       "<Figure size 800x600 with 1 Axes>"
      ]
     },
     "metadata": {},
     "output_type": "display_data"
    }
   ],
   "source": [
    "# Plotting word count statistics for Shared Stories and Response Stories\n",
    "\n",
    "# Creating a DataFrame for easy plotting\n",
    "plot_data = pd.DataFrame({\n",
    "    'Statistic': ['Mean', 'Std', 'Min', 'Max'],\n",
    "    'Seeker_posts': [seeker_post_mean, seeker_post_std, seeker_post_min, seeker_post_max],\n",
    "    'Response_posts': [response_post_mean, response_post_std, response_post_min, response_post_max]\n",
    "})\n",
    "\n",
    "# Plotting\n",
    "plot_data.set_index('Statistic').plot(kind='bar', figsize=(8,6))\n",
    "plt.title('Word Count Statistics for Shared Stories and Response Stories')\n",
    "plt.ylabel('Word Count')\n",
    "plt.xticks(rotation=0)\n",
    "plt.grid(axis='y')\n",
    "\n",
    "plt.show()\n"
   ]
  },
  {
   "cell_type": "code",
   "execution_count": 252,
   "metadata": {
    "colab": {
     "base_uri": "https://localhost:8080/",
     "height": 718
    },
    "id": "tOQyYzbKLSZx",
    "outputId": "c11ee044-2da1-4a1d-b2a8-a9890183e028"
   },
   "outputs": [
    {
     "data": {
      "image/png": "[encoded data removed]",
      "text/plain": [
       "<Figure size 400x800 with 1 Axes>"
      ]
     },
     "metadata": {},
     "output_type": "display_data"
    }
   ],
   "source": [
    "word_counts_df = pd.DataFrame({\n",
    "    'seeker Post': df['seeker_post_word_count'],\n",
    "    'Response Post': df['response_post_word_count']\n",
    "})\n",
    "\n",
    "# Plotting a box plot\n",
    "plt.figure(figsize=(4,8))\n",
    "word_counts_df.boxplot()\n",
    "plt.title('Box Plot of Word Counts for Seeker and Response Posts')\n",
    "plt.xlabel('Post Type')\n",
    "plt.ylabel('Word Count')\n",
    "plt.grid(True)\n",
    "\n",
    "plt.show()"
   ]
  },
  {
   "cell_type": "code",
   "execution_count": 251,
   "metadata": {
    "id": "YbeqPgYPMDLz"
   },
   "outputs": [],
   "source": [
    "df.to_csv('EPITOME_pairs1.csv', index=False)"
   ]
  },
  {
   "cell_type": "code",
   "execution_count": 254,
   "metadata": {
    "colab": {
     "base_uri": "https://localhost:8080/"
    },
    "id": "g07QzbyRLv2J",
    "outputId": "005fbf17-aa88-45a1-d41d-e6fffc71b753"
   },
   "outputs": [
    {
     "name": "stdout",
     "output_type": "stream",
     "text": [
      "Mean: 1.5749027237354085\n",
      "Standard Deviation: 1.1275596132443555\n",
      "Minimum: 0\n",
      "Maximum: 6\n"
     ]
    }
   ],
   "source": [
    "# Calculating mean, standard deviation, minimum, and maximum of the 'Rate' column\n",
    "mean_level = df['level'].mean()\n",
    "std_level = df['level'].std()\n",
    "min_level = df['level'].min()\n",
    "max_level = df['level'].max()\n",
    "\n",
    "print(f\"Mean: {mean_level}\")\n",
    "print(f\"Standard Deviation: {std_level}\")\n",
    "print(f\"Minimum: {min_level}\")\n",
    "print(f\"Maximum: {max_level}\")"
   ]
  },
  {
   "cell_type": "code",
   "execution_count": 259,
   "metadata": {
    "colab": {
     "base_uri": "https://localhost:8080/",
     "height": 410
    },
    "id": "UvGDjvsoMoC5",
    "outputId": "19ed9f08-1361-48a5-e0aa-f14fb4ab700c"
   },
   "outputs": [
    {
     "data": {
      "image/png": "[encoded data removed]",
      "text/plain": [
       "<Figure size 600x400 with 1 Axes>"
      ]
     },
     "metadata": {},
     "output_type": "display_data"
    }
   ],
   "source": [
    "plt.figure(figsize=(6,4))\n",
    "counts, bins, patches = plt.hist(df['level'], bins=range(0, 8), edgecolor='black', align='left')\n",
    "plt.title('Level Distribution')\n",
    "plt.xlabel('Ratings')\n",
    "plt.ylabel('Frequency')\n",
    "plt.xticks(range(0, 7))  # Ratings from 1 to 5\n",
    "plt.grid(axis='y')\n",
    "\n",
    "for count, patch in zip(counts, patches):\n",
    "    plt.text(patch.get_x() + patch.get_width() / 2, count, int(count), ha='center', va='bottom')\n",
    "\n",
    "\n",
    "plt.show()"
   ]
  },
  {
   "cell_type": "code",
   "execution_count": 260,
   "metadata": {
    "id": "nwC7Yv_qNpGj"
   },
   "outputs": [],
   "source": [
    "from sklearn.preprocessing import MinMaxScaler\n",
    "\n",
    "# Initializing the MinMaxScaler\n",
    "scaler = MinMaxScaler()\n",
    "\n",
    "# Scaling the 'example_column' to range 0-1\n",
    "df['level'] = scaler.fit_transform(df[['level']])"
   ]
  },
  {
   "cell_type": "code",
   "execution_count": 261,
   "metadata": {
    "colab": {
     "base_uri": "https://localhost:8080/",
     "height": 143
    },
    "id": "2VqfPLtCOaxJ",
    "outputId": "8d7e0104-fa0d-48a6-8b94-2ba7761a0bc6"
   },
   "outputs": [
    {
     "data": {
      "text/html": [
       "<div>\n",
       "<style scoped>\n",
       "    .dataframe tbody tr th:only-of-type {\n",
       "        vertical-align: middle;\n",
       "    }\n",
       "\n",
       "    .dataframe tbody tr th {\n",
       "        vertical-align: top;\n",
       "    }\n",
       "\n",
       "    .dataframe thead th {\n",
       "        text-align: right;\n",
       "    }\n",
       "</style>\n",
       "<table border=\"1\" class=\"dataframe\">\n",
       "  <thead>\n",
       "    <tr style=\"text-align: right;\">\n",
       "      <th></th>\n",
       "      <th>seeker_post</th>\n",
       "      <th>response_post</th>\n",
       "      <th>level</th>\n",
       "      <th>seeker_post_word_count</th>\n",
       "      <th>response_post_word_count</th>\n",
       "    </tr>\n",
       "  </thead>\n",
       "  <tbody>\n",
       "    <tr>\n",
       "      <th>0</th>\n",
       "      <td>Help. Help me. I dunno what I'm doing anymore</td>\n",
       "      <td>That's pretty vague, do you not know what you'...</td>\n",
       "      <td>0.333333</td>\n",
       "      <td>12</td>\n",
       "      <td>28</td>\n",
       "    </tr>\n",
       "    <tr>\n",
       "      <th>1</th>\n",
       "      <td>I'm done saying I love you to her because I do...</td>\n",
       "      <td>idk what a Red pill means exactly but my advic...</td>\n",
       "      <td>0.000000</td>\n",
       "      <td>30</td>\n",
       "      <td>86</td>\n",
       "    </tr>\n",
       "    <tr>\n",
       "      <th>2</th>\n",
       "      <td>Always feel like I'm being criticized and mock...</td>\n",
       "      <td>I think it's social anxiety , that creates par...</td>\n",
       "      <td>0.333333</td>\n",
       "      <td>19</td>\n",
       "      <td>22</td>\n",
       "    </tr>\n",
       "  </tbody>\n",
       "</table>\n",
       "</div>"
      ],
      "text/plain": [
       "                                         seeker_post  \\\n",
       "0      Help. Help me. I dunno what I'm doing anymore   \n",
       "1  I'm done saying I love you to her because I do...   \n",
       "2  Always feel like I'm being criticized and mock...   \n",
       "\n",
       "                                       response_post     level  \\\n",
       "0  That's pretty vague, do you not know what you'...  0.333333   \n",
       "1  idk what a Red pill means exactly but my advic...  0.000000   \n",
       "2  I think it's social anxiety , that creates par...  0.333333   \n",
       "\n",
       "   seeker_post_word_count  response_post_word_count  \n",
       "0                      12                        28  \n",
       "1                      30                        86  \n",
       "2                      19                        22  "
      ]
     },
     "execution_count": 261,
     "metadata": {},
     "output_type": "execute_result"
    }
   ],
   "source": [
    "df.head(3)"
   ]
  },
  {
   "cell_type": "code",
   "execution_count": 262,
   "metadata": {
    "id": "hJ9fu3CIOf7C"
   },
   "outputs": [],
   "source": [
    "df.to_csv('EPITOME_pairs2.csv', index=False)"
   ]
  },
  {
   "cell_type": "code",
   "execution_count": 10,
   "metadata": {},
   "outputs": [
    {
     "data": {
      "text/html": [
       "<div>\n",
       "<style scoped>\n",
       "    .dataframe tbody tr th:only-of-type {\n",
       "        vertical-align: middle;\n",
       "    }\n",
       "\n",
       "    .dataframe tbody tr th {\n",
       "        vertical-align: top;\n",
       "    }\n",
       "\n",
       "    .dataframe thead th {\n",
       "        text-align: right;\n",
       "    }\n",
       "</style>\n",
       "<table border=\"1\" class=\"dataframe\">\n",
       "  <thead>\n",
       "    <tr style=\"text-align: right;\">\n",
       "      <th></th>\n",
       "      <th>seeker_post</th>\n",
       "      <th>response_post</th>\n",
       "      <th>level</th>\n",
       "      <th>seeker_post_word_count</th>\n",
       "      <th>response_post_word_count</th>\n",
       "    </tr>\n",
       "  </thead>\n",
       "  <tbody>\n",
       "    <tr>\n",
       "      <th>0</th>\n",
       "      <td>Help. Help me. I dunno what I'm doing anymore</td>\n",
       "      <td>That's pretty vague, do you not know what you'...</td>\n",
       "      <td>0.333333</td>\n",
       "      <td>12</td>\n",
       "      <td>28</td>\n",
       "    </tr>\n",
       "    <tr>\n",
       "      <th>1</th>\n",
       "      <td>I'm done saying I love you to her because I do...</td>\n",
       "      <td>idk what a Red pill means exactly but my advic...</td>\n",
       "      <td>0.000000</td>\n",
       "      <td>30</td>\n",
       "      <td>86</td>\n",
       "    </tr>\n",
       "    <tr>\n",
       "      <th>2</th>\n",
       "      <td>Always feel like I'm being criticized and mock...</td>\n",
       "      <td>I think it's social anxiety , that creates par...</td>\n",
       "      <td>0.333333</td>\n",
       "      <td>19</td>\n",
       "      <td>22</td>\n",
       "    </tr>\n",
       "    <tr>\n",
       "      <th>3</th>\n",
       "      <td>My diet becomes fucked when i get depressed.. ...</td>\n",
       "      <td>By any chance do you think you're in a loop. J...</td>\n",
       "      <td>0.666667</td>\n",
       "      <td>42</td>\n",
       "      <td>65</td>\n",
       "    </tr>\n",
       "    <tr>\n",
       "      <th>4</th>\n",
       "      <td>I hate not knowing why. I was diagnosed with d...</td>\n",
       "      <td>depression. not sadness which is caused by som...</td>\n",
       "      <td>0.333333</td>\n",
       "      <td>130</td>\n",
       "      <td>120</td>\n",
       "    </tr>\n",
       "  </tbody>\n",
       "</table>\n",
       "</div>"
      ],
      "text/plain": [
       "                                         seeker_post  \\\n",
       "0      Help. Help me. I dunno what I'm doing anymore   \n",
       "1  I'm done saying I love you to her because I do...   \n",
       "2  Always feel like I'm being criticized and mock...   \n",
       "3  My diet becomes fucked when i get depressed.. ...   \n",
       "4  I hate not knowing why. I was diagnosed with d...   \n",
       "\n",
       "                                       response_post     level  \\\n",
       "0  That's pretty vague, do you not know what you'...  0.333333   \n",
       "1  idk what a Red pill means exactly but my advic...  0.000000   \n",
       "2  I think it's social anxiety , that creates par...  0.333333   \n",
       "3  By any chance do you think you're in a loop. J...  0.666667   \n",
       "4  depression. not sadness which is caused by som...  0.333333   \n",
       "\n",
       "   seeker_post_word_count  response_post_word_count  \n",
       "0                      12                        28  \n",
       "1                      30                        86  \n",
       "2                      19                        22  \n",
       "3                      42                        65  \n",
       "4                     130                       120  "
      ]
     },
     "execution_count": 10,
     "metadata": {},
     "output_type": "execute_result"
    }
   ],
   "source": [
    "import pandas as pd\n",
    "\n",
    "df = pd.read_csv('EPITOME_pairs2.csv')\n",
    "df.head()"
   ]
  },
  {
   "cell_type": "code",
   "execution_count": 11,
   "metadata": {},
   "outputs": [
    {
     "data": {
      "text/html": [
       "<div>\n",
       "<style scoped>\n",
       "    .dataframe tbody tr th:only-of-type {\n",
       "        vertical-align: middle;\n",
       "    }\n",
       "\n",
       "    .dataframe tbody tr th {\n",
       "        vertical-align: top;\n",
       "    }\n",
       "\n",
       "    .dataframe thead th {\n",
       "        text-align: right;\n",
       "    }\n",
       "</style>\n",
       "<table border=\"1\" class=\"dataframe\">\n",
       "  <thead>\n",
       "    <tr style=\"text-align: right;\">\n",
       "      <th></th>\n",
       "      <th>seeker_post</th>\n",
       "      <th>response_post</th>\n",
       "      <th>level</th>\n",
       "      <th>seeker_post_word_count</th>\n",
       "      <th>response_post_word_count</th>\n",
       "    </tr>\n",
       "  </thead>\n",
       "  <tbody>\n",
       "    <tr>\n",
       "      <th>0</th>\n",
       "      <td>Help. Help me. I dunno what I'm doing anymore</td>\n",
       "      <td>That's pretty vague, do you not know what you'...</td>\n",
       "      <td>0.377068</td>\n",
       "      <td>12</td>\n",
       "      <td>28</td>\n",
       "    </tr>\n",
       "    <tr>\n",
       "      <th>1</th>\n",
       "      <td>I'm done saying I love you to her because I do...</td>\n",
       "      <td>idk what a Red pill means exactly but my advic...</td>\n",
       "      <td>-1.396962</td>\n",
       "      <td>30</td>\n",
       "      <td>86</td>\n",
       "    </tr>\n",
       "    <tr>\n",
       "      <th>2</th>\n",
       "      <td>Always feel like I'm being criticized and mock...</td>\n",
       "      <td>I think it's social anxiety , that creates par...</td>\n",
       "      <td>0.377068</td>\n",
       "      <td>19</td>\n",
       "      <td>22</td>\n",
       "    </tr>\n",
       "  </tbody>\n",
       "</table>\n",
       "</div>"
      ],
      "text/plain": [
       "                                         seeker_post  \\\n",
       "0      Help. Help me. I dunno what I'm doing anymore   \n",
       "1  I'm done saying I love you to her because I do...   \n",
       "2  Always feel like I'm being criticized and mock...   \n",
       "\n",
       "                                       response_post     level  \\\n",
       "0  That's pretty vague, do you not know what you'...  0.377068   \n",
       "1  idk what a Red pill means exactly but my advic... -1.396962   \n",
       "2  I think it's social anxiety , that creates par...  0.377068   \n",
       "\n",
       "   seeker_post_word_count  response_post_word_count  \n",
       "0                      12                        28  \n",
       "1                      30                        86  \n",
       "2                      19                        22  "
      ]
     },
     "execution_count": 11,
     "metadata": {},
     "output_type": "execute_result"
    }
   ],
   "source": [
    "from sklearn.preprocessing import StandardScaler\n",
    "\n",
    "scaler = StandardScaler()\n",
    "\n",
    "df['level'] = scaler.fit_transform(df[['level']])\n",
    "df.head(3)"
   ]
  },
  {
   "cell_type": "code",
   "execution_count": 12,
   "metadata": {},
   "outputs": [],
   "source": [
    "df.to_csv('EPITOME_pairs2N.csv', index=False)"
   ]
  },
  {
   "cell_type": "code",
   "execution_count": null,
   "metadata": {},
   "outputs": [],
   "source": []
  }
 ],
 "metadata": {
  "colab": {
   "provenance": []
  },
  "kernelspec": {
   "display_name": "Python 3 (ipykernel)",
   "language": "python",
   "name": "python3"
  },
  "language_info": {
   "codemirror_mode": {
    "name": "ipython",
    "version": 3
   },
   "file_extension": ".py",
   "mimetype": "text/x-python",
   "name": "python",
   "nbconvert_exporter": "python",
   "pygments_lexer": "ipython3",
   "version": "3.9.0"
  }
 },
 "nbformat": 4,
 "nbformat_minor": 4
}
