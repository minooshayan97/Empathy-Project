{
  "cells": [
    {
      "cell_type": "code",
      "execution_count": 1,
      "metadata": {
        "colab": {
          "base_uri": "https://localhost:8080/"
        },
        "id": "1tgj3xkNh7RF",
        "outputId": "0d53c73b-8a73-4c16-9be1-5633d980f6f5"
      },
      "outputs": [
        {
          "name": "stdout",
          "output_type": "stream",
          "text": [
            "\u001b[?25l   \u001b[90m━━━━━━━━━━━━━━━━━━━━━━━━━━━━━━━━━━━━━━━━\u001b[0m \u001b[32m0.0/480.6 kB\u001b[0m \u001b[31m?\u001b[0m eta \u001b[36m-:--:--\u001b[0m\r\u001b[2K   \u001b[90m━━━━━━━━━━━━━━━━━━━━━━━━━━━━━━━━━━━━━━━━\u001b[0m \u001b[32m480.6/480.6 kB\u001b[0m \u001b[31m14.6 MB/s\u001b[0m eta \u001b[36m0:00:00\u001b[0m\n",
            "\u001b[?25h\u001b[?25l   \u001b[90m━━━━━━━━━━━━━━━━━━━━━━━━━━━━━━━━━━━━━━━━\u001b[0m \u001b[32m0.0/116.3 kB\u001b[0m \u001b[31m?\u001b[0m eta \u001b[36m-:--:--\u001b[0m\r\u001b[2K   \u001b[90m━━━━━━━━━━━━━━━━━━━━━━━━━━━━━━━━━━━━━━━━\u001b[0m \u001b[32m116.3/116.3 kB\u001b[0m \u001b[31m9.8 MB/s\u001b[0m eta \u001b[36m0:00:00\u001b[0m\n",
            "\u001b[2K   \u001b[90m━━━━━━━━━━━━━━━━━━━━━━━━━━━━━━━━━━━━━━━━\u001b[0m \u001b[32m134.8/134.8 kB\u001b[0m \u001b[31m10.7 MB/s\u001b[0m eta \u001b[36m0:00:00\u001b[0m\n",
            "\u001b[2K   \u001b[90m━━━━━━━━━━━━━━━━━━━━━━━━━━━━━━━━━━━━━━━━\u001b[0m \u001b[32m40.0/40.0 MB\u001b[0m \u001b[31m19.0 MB/s\u001b[0m eta \u001b[36m0:00:00\u001b[0m\n",
            "\u001b[2K   \u001b[90m━━━━━━━━━━━━━━━━━━━━━━━━━━━━━━━━━━━━━━━━\u001b[0m \u001b[32m194.1/194.1 kB\u001b[0m \u001b[31m12.7 MB/s\u001b[0m eta \u001b[36m0:00:00\u001b[0m\n",
            "\u001b[?25h\u001b[31mERROR: pip's dependency resolver does not currently take into account all the packages that are installed. This behaviour is the source of the following dependency conflicts.\n",
            "cudf-cu12 24.4.1 requires pyarrow<15.0.0a0,>=14.0.1, but you have pyarrow 18.0.0 which is incompatible.\n",
            "ibis-framework 8.0.0 requires pyarrow<16,>=2, but you have pyarrow 18.0.0 which is incompatible.\u001b[0m\u001b[31m\n",
            "\u001b[0m"
          ]
        }
      ],
      "source": [
        "!pip install -q transformers datasets"
      ]
    },
    {
      "cell_type": "code",
      "execution_count": 2,
      "metadata": {
        "colab": {
          "base_uri": "https://localhost:8080/"
        },
        "id": "rpS1JGLpiiAE",
        "outputId": "81d8fc7a-2075-4e6b-a101-c5e4132be257"
      },
      "outputs": [
        {
          "name": "stdout",
          "output_type": "stream",
          "text": [
            "The token has not been saved to the git credentials helper. Pass `add_to_git_credential=True` in this function directly or `--add-to-git-credential` if using via `huggingface-cli` if you want to set the git credential as well.\n",
            "Token is valid (permission: fineGrained).\n",
            "Your token has been saved to /root/.cache/huggingface/token\n",
            "Login successful\n"
          ]
        }
      ],
      "source": [
        "!huggingface-cli login --token hf_"
      ]
    },
    {
      "cell_type": "code",
      "execution_count": 3,
      "metadata": {
        "id": "QL_QBqKkiEZ0"
      },
      "outputs": [],
      "source": [
        "from datasets import load_dataset\n",
        "from transformers import AutoModelForSequenceClassification, AutoTokenizer, Trainer"
      ]
    },
    {
      "cell_type": "code",
      "execution_count": 13,
      "metadata": {
        "id": "rJ6YZkd2hm0a"
      },
      "outputs": [],
      "source": [
        "import torch\n",
        "from sklearn.metrics import mean_squared_error, mean_absolute_error\n",
        "from scipy.stats import pearsonr, spearmanr\n",
        "\n",
        "def compute_metrics2(predictions, labels):\n",
        "    mse = mean_squared_error(labels, predictions)\n",
        "    mae = mean_absolute_error(labels, predictions)\n",
        "    pearson_corr, _ = pearsonr(predictions, labels)\n",
        "    spearman_corr, _ = spearmanr(predictions, labels)\n",
        "    cosine_sim = torch.nn.functional.cosine_similarity(torch.tensor(predictions), torch.tensor(labels), dim=0).mean().item()\n",
        "\n",
        "    return {\n",
        "        \"mse\": mse,\n",
        "        \"mae\": mae,\n",
        "        \"pearson_corr\": pearson_corr,\n",
        "        \"spearman_corr\": spearman_corr,\n",
        "        \"cosine_sim\": cosine_sim  # Optional metric for similarity tasks\n",
        "    }"
      ]
    },
    {
      "cell_type": "markdown",
      "metadata": {
        "id": "l5O-4xc-qwbV"
      },
      "source": [
        "# minoosh/bert-reg-crossencoder-mse\""
      ]
    },
    {
      "cell_type": "code",
      "execution_count": 49,
      "metadata": {
        "id": "FIJVbTpChqJW"
      },
      "outputs": [],
      "source": [
        "model_name = \"minoosh/bert-reg-crossencoder-mse\"\n",
        "model = AutoModelForSequenceClassification.from_pretrained(model_name)\n",
        "tokenizer = AutoTokenizer.from_pretrained(model_name)\n",
        "\n",
        "# Initialize the Trainer\n",
        "trainer = Trainer(model=model)"
      ]
    },
    {
      "cell_type": "code",
      "execution_count": 50,
      "metadata": {
        "id": "CVO59t2qhv2s"
      },
      "outputs": [],
      "source": [
        "# Load dataset\n",
        "dataset = load_dataset(\"minoosh/Annotated_story_pairs2\")\n",
        "\n",
        "# Preprocess data for the cross-encoder model by concatenating text1 and text2 with [SEP]\n",
        "def preprocess_function(examples):\n",
        "    # Concatenate both texts with a [SEP] token in between\n",
        "    encodings = tokenizer(examples['text1'], examples['text2'], truncation=True, padding=True, max_length=512)\n",
        "    encodings['labels'] = examples['label']\n",
        "    return encodings\n",
        "\n",
        "# Apply tokenization\n",
        "#tokenized_train = dataset['train'].map(preprocess_function, batched=True)\n",
        "tokenized_test = dataset['test'].map(preprocess_function, batched=True)\n",
        "#tokenized_val = dataset['validation'].map(preprocess_function, batched=True)\n",
        "\n",
        "# Set format for PyTorch\n",
        "#tokenized_train.set_format(type='torch', columns=['input_ids', 'attention_mask', 'labels'])\n",
        "tokenized_test.set_format(type='torch', columns=['input_ids', 'attention_mask', 'labels'])\n",
        "#tokenized_val.set_format(type='torch', columns=['input_ids', 'attention_mask', 'labels'])"
      ]
    },
    {
      "cell_type": "code",
      "execution_count": 51,
      "metadata": {
        "colab": {
          "base_uri": "https://localhost:8080/",
          "height": 1000
        },
        "id": "MvvsxMSThxuk",
        "outputId": "2d5c185f-c8ee-42a1-cd55-2f31a88bade1"
      },
      "outputs": [
        {
          "data": {
            "text/html": [],
            "text/plain": [
              "<IPython.core.display.HTML object>"
            ]
          },
          "metadata": {},
          "output_type": "display_data"
        },
        {
          "data": {
            "text/plain": [
              "PredictionOutput(predictions=array([[0.49645495],\n",
              "       [0.70597875],\n",
              "       [0.33234525],\n",
              "       [0.5911986 ],\n",
              "       [0.553577  ],\n",
              "       [0.6251458 ],\n",
              "       [0.564947  ],\n",
              "       [0.5544381 ],\n",
              "       [0.54482955],\n",
              "       [0.65693057],\n",
              "       [0.5690245 ],\n",
              "       [0.61431044],\n",
              "       [0.4838075 ],\n",
              "       [0.3976925 ],\n",
              "       [0.6415434 ],\n",
              "       [0.6653182 ],\n",
              "       [0.6265855 ],\n",
              "       [0.3111832 ],\n",
              "       [0.65014213],\n",
              "       [0.48904845],\n",
              "       [0.6771684 ],\n",
              "       [0.54215693],\n",
              "       [0.5762899 ],\n",
              "       [0.6841067 ],\n",
              "       [0.61757445],\n",
              "       [0.69951427],\n",
              "       [0.39096075],\n",
              "       [0.32032046],\n",
              "       [0.5429218 ],\n",
              "       [0.6403567 ],\n",
              "       [0.39980355],\n",
              "       [0.6589362 ],\n",
              "       [0.34071764],\n",
              "       [0.6393186 ],\n",
              "       [0.39182013],\n",
              "       [0.7180848 ],\n",
              "       [0.5009824 ],\n",
              "       [0.45757926],\n",
              "       [0.6073381 ],\n",
              "       [0.25381687],\n",
              "       [0.29575747],\n",
              "       [0.6776214 ],\n",
              "       [0.24283719],\n",
              "       [0.53304726],\n",
              "       [0.6562239 ],\n",
              "       [0.64118844],\n",
              "       [0.35054442],\n",
              "       [0.4697968 ],\n",
              "       [0.5233725 ],\n",
              "       [0.45314008],\n",
              "       [0.70446765],\n",
              "       [0.34586674],\n",
              "       [0.25952715],\n",
              "       [0.6639655 ],\n",
              "       [0.8021807 ],\n",
              "       [0.4779784 ],\n",
              "       [0.81018853],\n",
              "       [0.49899942],\n",
              "       [0.57833207],\n",
              "       [0.8812723 ],\n",
              "       [0.65637875],\n",
              "       [0.4267519 ],\n",
              "       [0.5364969 ],\n",
              "       [0.5176562 ],\n",
              "       [0.62298864],\n",
              "       [0.4803528 ],\n",
              "       [0.50122136],\n",
              "       [0.322102  ],\n",
              "       [0.5255025 ],\n",
              "       [0.6014159 ],\n",
              "       [0.4084164 ],\n",
              "       [0.47734687],\n",
              "       [0.55791795],\n",
              "       [0.58081347],\n",
              "       [0.24079815],\n",
              "       [0.24521384],\n",
              "       [0.36898747],\n",
              "       [0.6103256 ],\n",
              "       [0.5071481 ],\n",
              "       [0.3483226 ]], dtype=float32), label_ids=array([0.75, 0.5 , 0.5 , 1.  , 0.  , 0.25, 0.5 , 0.5 , 1.  , 0.5 , 0.75,\n",
              "       0.5 , 0.75, 1.  , 0.  , 0.75, 0.5 , 0.5 , 0.25, 0.25, 0.75, 0.25,\n",
              "       0.25, 1.  , 0.5 , 0.5 , 1.  , 0.5 , 0.25, 0.25, 1.  , 1.  , 1.  ,\n",
              "       0.75, 0.75, 0.75, 0.75, 0.5 , 0.75, 0.5 , 0.  , 1.  , 0.  , 0.75,\n",
              "       0.75, 1.  , 0.75, 0.  , 0.75, 1.  , 0.75, 0.75, 0.25, 0.5 , 0.5 ,\n",
              "       0.25, 0.75, 0.75, 0.25, 1.  , 0.25, 0.5 , 0.75, 1.  , 0.5 , 1.  ,\n",
              "       1.  , 0.  , 1.  , 0.75, 0.5 , 1.  , 0.  , 0.75, 0.  , 0.25, 0.75,\n",
              "       0.75, 0.25, 0.5 ], dtype=float32), metrics={'test_loss': 0.10376882553100586, 'test_model_preparation_time': 0.0057, 'test_runtime': 2.1691, 'test_samples_per_second': 36.882, 'test_steps_per_second': 4.61})"
            ]
          },
          "execution_count": 51,
          "metadata": {},
          "output_type": "execute_result"
        }
      ],
      "source": [
        "prediction = trainer.predict(tokenized_test)\n",
        "prediction"
      ]
    },
    {
      "cell_type": "code",
      "execution_count": 52,
      "metadata": {
        "colab": {
          "base_uri": "https://localhost:8080/"
        },
        "id": "E6CBPfhKbJ_H",
        "outputId": "ecf9638a-b6c0-4552-bedb-3f9e131f6773"
      },
      "outputs": [
        {
          "data": {
            "text/plain": [
              "{'mse': 0.10376882405505974,\n",
              " 'mae': 0.2747747827321291,\n",
              " 'pearson_corr': 0.21029515120828404,\n",
              " 'spearman_corr': 0.1443849884052918,\n",
              " 'cosine_sim': 0.877231776714325}"
            ]
          },
          "execution_count": 52,
          "metadata": {},
          "output_type": "execute_result"
        }
      ],
      "source": [
        "actual_labels = tokenized_test['labels'].tolist()\n",
        "predicted_classes = prediction.predictions.squeeze().tolist()\n",
        "res = compute_metrics2(actual_labels, predicted_classes)\n",
        "\n",
        "res"
      ]
    },
    {
      "cell_type": "markdown",
      "metadata": {
        "id": "YZGv0Dp_rGdc"
      },
      "source": [
        "# \"minoosh/bert-reg-crossencoder-mae\""
      ]
    },
    {
      "cell_type": "code",
      "execution_count": 65,
      "metadata": {
        "id": "XhcqW-k2b7LG"
      },
      "outputs": [],
      "source": [
        "model_name = \"minoosh/bert-reg-crossencoder-mae\"\n",
        "model = AutoModelForSequenceClassification.from_pretrained(model_name)\n",
        "tokenizer = AutoTokenizer.from_pretrained(model_name)\n",
        "\n",
        "# Initialize the Trainer\n",
        "trainer = Trainer(model=model)"
      ]
    },
    {
      "cell_type": "code",
      "execution_count": 69,
      "metadata": {
        "id": "tU3Z-7SDb83m"
      },
      "outputs": [],
      "source": [
        "# Load dataset\n",
        "dataset = load_dataset(\"minoosh/Annotated_story_pairs2\")\n",
        "\n",
        "# Preprocess data for the cross-encoder model by concatenating text1 and text2 with [SEP]\n",
        "def preprocess_function(examples):\n",
        "    # Concatenate both texts with a [SEP] token in between\n",
        "    encodings = tokenizer(examples['text1'], examples['text2'], truncation=True, padding=True, max_length=512)\n",
        "    encodings['labels'] = examples['label']\n",
        "    return encodings\n",
        "\n",
        "# Apply tokenization\n",
        "#tokenized_train = dataset['train'].map(preprocess_function, batched=True)\n",
        "tokenized_test = dataset['test'].map(preprocess_function, batched=True)\n",
        "#tokenized_val = dataset['validation'].map(preprocess_function, batched=True)\n",
        "\n",
        "# Set format for PyTorch\n",
        "#tokenized_train.set_format(type='torch', columns=['input_ids', 'attention_mask', 'labels'])\n",
        "tokenized_test.set_format(type='torch', columns=['input_ids', 'attention_mask', 'labels'])\n",
        "#tokenized_val.set_format(type='torch', columns=['input_ids', 'attention_mask', 'labels'])"
      ]
    },
    {
      "cell_type": "code",
      "execution_count": 70,
      "metadata": {
        "colab": {
          "base_uri": "https://localhost:8080/",
          "height": 1000
        },
        "id": "KIgdnVVYb4ZO",
        "outputId": "77874d7f-ad6c-4ca4-d0a4-f937a915e392"
      },
      "outputs": [
        {
          "data": {
            "text/html": [],
            "text/plain": [
              "<IPython.core.display.HTML object>"
            ]
          },
          "metadata": {},
          "output_type": "display_data"
        },
        {
          "data": {
            "text/plain": [
              "PredictionOutput(predictions=array([[0.50453377],\n",
              "       [0.6263789 ],\n",
              "       [0.27635142],\n",
              "       [0.5034347 ],\n",
              "       [0.5760099 ],\n",
              "       [0.6512682 ],\n",
              "       [0.45011228],\n",
              "       [0.4388314 ],\n",
              "       [0.5487585 ],\n",
              "       [0.55954033],\n",
              "       [0.6058875 ],\n",
              "       [0.59040457],\n",
              "       [0.5171    ],\n",
              "       [0.5779132 ],\n",
              "       [0.4469051 ],\n",
              "       [0.68225133],\n",
              "       [0.64959705],\n",
              "       [0.4905397 ],\n",
              "       [0.57506615],\n",
              "       [0.5975526 ],\n",
              "       [0.58912295],\n",
              "       [0.60666245],\n",
              "       [0.4432458 ],\n",
              "       [0.66442806],\n",
              "       [0.48260155],\n",
              "       [0.57679677],\n",
              "       [0.4678212 ],\n",
              "       [0.43483946],\n",
              "       [0.6639946 ],\n",
              "       [0.6597029 ],\n",
              "       [0.4745272 ],\n",
              "       [0.6437773 ],\n",
              "       [0.5416583 ],\n",
              "       [0.6405684 ],\n",
              "       [0.5642117 ],\n",
              "       [0.6865468 ],\n",
              "       [0.5156758 ],\n",
              "       [0.59000057],\n",
              "       [0.47591105],\n",
              "       [0.3279172 ],\n",
              "       [0.36487362],\n",
              "       [0.6385168 ],\n",
              "       [0.42913023],\n",
              "       [0.58419794],\n",
              "       [0.56218463],\n",
              "       [0.56327796],\n",
              "       [0.4704571 ],\n",
              "       [0.4899542 ],\n",
              "       [0.6124037 ],\n",
              "       [0.62033   ],\n",
              "       [0.5391833 ],\n",
              "       [0.57598513],\n",
              "       [0.4073878 ],\n",
              "       [0.5984153 ],\n",
              "       [0.48129156],\n",
              "       [0.54426706],\n",
              "       [0.64498687],\n",
              "       [0.5929469 ],\n",
              "       [0.5895676 ],\n",
              "       [0.63195926],\n",
              "       [0.5207223 ],\n",
              "       [0.3519095 ],\n",
              "       [0.48679736],\n",
              "       [0.6028431 ],\n",
              "       [0.7043533 ],\n",
              "       [0.46437672],\n",
              "       [0.6184123 ],\n",
              "       [0.4303576 ],\n",
              "       [0.49933484],\n",
              "       [0.6320733 ],\n",
              "       [0.56978196],\n",
              "       [0.6154989 ],\n",
              "       [0.61234444],\n",
              "       [0.47182983],\n",
              "       [0.40828225],\n",
              "       [0.373519  ],\n",
              "       [0.43728033],\n",
              "       [0.55208915],\n",
              "       [0.46361354],\n",
              "       [0.328661  ]], dtype=float32), label_ids=array([0.75, 0.5 , 0.5 , 1.  , 0.  , 0.25, 0.5 , 0.5 , 1.  , 0.5 , 0.75,\n",
              "       0.5 , 0.75, 1.  , 0.  , 0.75, 0.5 , 0.5 , 0.25, 0.25, 0.75, 0.25,\n",
              "       0.25, 1.  , 0.5 , 0.5 , 1.  , 0.5 , 0.25, 0.25, 1.  , 1.  , 1.  ,\n",
              "       0.75, 0.75, 0.75, 0.75, 0.5 , 0.75, 0.5 , 0.  , 1.  , 0.  , 0.75,\n",
              "       0.75, 1.  , 0.75, 0.  , 0.75, 1.  , 0.75, 0.75, 0.25, 0.5 , 0.5 ,\n",
              "       0.25, 0.75, 0.75, 0.25, 1.  , 0.25, 0.5 , 0.75, 1.  , 0.5 , 1.  ,\n",
              "       1.  , 0.  , 1.  , 0.75, 0.5 , 1.  , 0.  , 0.75, 0.  , 0.25, 0.75,\n",
              "       0.75, 0.25, 0.5 ], dtype=float32), metrics={'test_loss': 0.09339307248592377, 'test_model_preparation_time': 0.0075, 'test_runtime': 2.1789, 'test_samples_per_second': 36.715, 'test_steps_per_second': 4.589})"
            ]
          },
          "execution_count": 70,
          "metadata": {},
          "output_type": "execute_result"
        }
      ],
      "source": [
        "prediction = trainer.predict(tokenized_test)\n",
        "prediction"
      ]
    },
    {
      "cell_type": "code",
      "execution_count": 71,
      "metadata": {
        "colab": {
          "base_uri": "https://localhost:8080/"
        },
        "id": "VRhf4ZOz-hu9",
        "outputId": "daad1999-db8b-48eb-a985-8ce3af239d34"
      },
      "outputs": [
        {
          "data": {
            "text/plain": [
              "{'mse': 0.09339308267594623,\n",
              " 'mae': 0.26419434919953344,\n",
              " 'pearson_corr': 0.27998061048451983,\n",
              " 'spearman_corr': 0.2651050424875487,\n",
              " 'cosine_sim': 0.8915033936500549}"
            ]
          },
          "execution_count": 71,
          "metadata": {},
          "output_type": "execute_result"
        }
      ],
      "source": [
        "actual_labels = tokenized_test['labels'].tolist()\n",
        "predicted_classes = prediction.predictions.squeeze().tolist()\n",
        "res = compute_metrics2(actual_labels, predicted_classes)\n",
        "\n",
        "res"
      ]
    },
    {
      "cell_type": "markdown",
      "metadata": {
        "id": "7V00xn-scCbN"
      },
      "source": [
        "# \"minoosh/bert-reg-crossencoder-contrastive\""
      ]
    },
    {
      "cell_type": "code",
      "execution_count": 72,
      "metadata": {
        "id": "lgwlZ8m9cLnF"
      },
      "outputs": [],
      "source": [
        "model_name = \"minoosh/bert-reg-crossencoder-contrastive\"\n",
        "model = AutoModelForSequenceClassification.from_pretrained(model_name)\n",
        "tokenizer = AutoTokenizer.from_pretrained(model_name)\n",
        "\n",
        "# Initialize the Trainer\n",
        "trainer = Trainer(model=model)"
      ]
    },
    {
      "cell_type": "code",
      "execution_count": 73,
      "metadata": {
        "id": "Z8vftm7IcLs-"
      },
      "outputs": [],
      "source": [
        "# Load dataset\n",
        "dataset = load_dataset(\"minoosh/Annotated_story_pairs2\")\n",
        "\n",
        "# Preprocess data for the cross-encoder model by concatenating text1 and text2 with [SEP]\n",
        "def preprocess_function(examples):\n",
        "    # Concatenate both texts with a [SEP] token in between\n",
        "    encodings = tokenizer(examples['text1'], examples['text2'], truncation=True, padding=True, max_length=512)\n",
        "    encodings['labels'] = examples['label']\n",
        "    return encodings\n",
        "\n",
        "# Apply tokenization\n",
        "#tokenized_train = dataset['train'].map(preprocess_function, batched=True)\n",
        "tokenized_test = dataset['test'].map(preprocess_function, batched=True)\n",
        "#tokenized_val = dataset['validation'].map(preprocess_function, batched=True)\n",
        "\n",
        "# Set format for PyTorch\n",
        "#tokenized_train.set_format(type='torch', columns=['input_ids', 'attention_mask', 'labels'])\n",
        "tokenized_test.set_format(type='torch', columns=['input_ids', 'attention_mask', 'labels'])\n",
        "#tokenized_val.set_format(type='torch', columns=['input_ids', 'attention_mask', 'labels'])"
      ]
    },
    {
      "cell_type": "code",
      "execution_count": 74,
      "metadata": {
        "colab": {
          "base_uri": "https://localhost:8080/",
          "height": 1000
        },
        "id": "Ew9NCcorcJV2",
        "outputId": "49a8f82c-49d9-466a-b4dc-05998c3cc37d"
      },
      "outputs": [
        {
          "data": {
            "text/html": [],
            "text/plain": [
              "<IPython.core.display.HTML object>"
            ]
          },
          "metadata": {},
          "output_type": "display_data"
        },
        {
          "data": {
            "text/plain": [
              "PredictionOutput(predictions=array([[1.009588  ],\n",
              "       [1.0049514 ],\n",
              "       [1.0121336 ],\n",
              "       [0.9995622 ],\n",
              "       [0.9654851 ],\n",
              "       [1.0107651 ],\n",
              "       [0.9951133 ],\n",
              "       [1.0082967 ],\n",
              "       [1.0008017 ],\n",
              "       [0.979575  ],\n",
              "       [0.9848868 ],\n",
              "       [0.98630303],\n",
              "       [0.9860636 ],\n",
              "       [0.97186244],\n",
              "       [0.9939249 ],\n",
              "       [0.9815468 ],\n",
              "       [0.9894565 ],\n",
              "       [0.9853045 ],\n",
              "       [1.0046353 ],\n",
              "       [0.9939396 ],\n",
              "       [0.99100155],\n",
              "       [0.9841576 ],\n",
              "       [0.98468906],\n",
              "       [1.0027732 ],\n",
              "       [0.9834165 ],\n",
              "       [0.9878249 ],\n",
              "       [0.98290133],\n",
              "       [0.97674185],\n",
              "       [0.98101187],\n",
              "       [1.0153706 ],\n",
              "       [0.9995818 ],\n",
              "       [0.9881976 ],\n",
              "       [0.9873743 ],\n",
              "       [0.990062  ],\n",
              "       [1.0156038 ],\n",
              "       [1.0207397 ],\n",
              "       [0.9865587 ],\n",
              "       [1.0011867 ],\n",
              "       [0.97585636],\n",
              "       [1.0245094 ],\n",
              "       [0.9974881 ],\n",
              "       [0.9895072 ],\n",
              "       [1.0031236 ],\n",
              "       [0.98287183],\n",
              "       [1.004801  ],\n",
              "       [0.98281586],\n",
              "       [0.9688676 ],\n",
              "       [0.97848403],\n",
              "       [1.0018903 ],\n",
              "       [1.0007074 ],\n",
              "       [0.99253327],\n",
              "       [1.0109415 ],\n",
              "       [0.9784908 ],\n",
              "       [0.98825145],\n",
              "       [1.0075616 ],\n",
              "       [1.0104805 ],\n",
              "       [0.9983375 ],\n",
              "       [0.9882825 ],\n",
              "       [0.9984691 ],\n",
              "       [0.99644   ],\n",
              "       [0.9874725 ],\n",
              "       [1.0042235 ],\n",
              "       [0.9953212 ],\n",
              "       [0.99630713],\n",
              "       [1.0124986 ],\n",
              "       [0.9772606 ],\n",
              "       [0.9800891 ],\n",
              "       [0.9943674 ],\n",
              "       [1.0031189 ],\n",
              "       [0.99621546],\n",
              "       [0.99661213],\n",
              "       [1.004671  ],\n",
              "       [0.97107154],\n",
              "       [0.9787826 ],\n",
              "       [0.9828649 ],\n",
              "       [0.99736226],\n",
              "       [0.9864659 ],\n",
              "       [0.9876334 ],\n",
              "       [0.9943671 ],\n",
              "       [0.98911065]], dtype=float32), label_ids=array([0.75, 0.5 , 0.5 , 1.  , 0.  , 0.25, 0.5 , 0.5 , 1.  , 0.5 , 0.75,\n",
              "       0.5 , 0.75, 1.  , 0.  , 0.75, 0.5 , 0.5 , 0.25, 0.25, 0.75, 0.25,\n",
              "       0.25, 1.  , 0.5 , 0.5 , 1.  , 0.5 , 0.25, 0.25, 1.  , 1.  , 1.  ,\n",
              "       0.75, 0.75, 0.75, 0.75, 0.5 , 0.75, 0.5 , 0.  , 1.  , 0.  , 0.75,\n",
              "       0.75, 1.  , 0.75, 0.  , 0.75, 1.  , 0.75, 0.75, 0.25, 0.5 , 0.5 ,\n",
              "       0.25, 0.75, 0.75, 0.25, 1.  , 0.25, 0.5 , 0.75, 1.  , 0.5 , 1.  ,\n",
              "       1.  , 0.  , 1.  , 0.75, 0.5 , 1.  , 0.  , 0.75, 0.  , 0.25, 0.75,\n",
              "       0.75, 0.25, 0.5 ], dtype=float32), metrics={'test_loss': 0.2631469964981079, 'test_model_preparation_time': 0.0041, 'test_runtime': 2.1121, 'test_samples_per_second': 37.876, 'test_steps_per_second': 4.735})"
            ]
          },
          "execution_count": 74,
          "metadata": {},
          "output_type": "execute_result"
        }
      ],
      "source": [
        "prediction = trainer.predict(tokenized_test)\n",
        "prediction"
      ]
    },
    {
      "cell_type": "code",
      "execution_count": 60,
      "metadata": {
        "colab": {
          "base_uri": "https://localhost:8080/"
        },
        "id": "JKsDa4GmcCBl",
        "outputId": "bcd0c7a6-b504-40bc-8a4c-508578f5ec8c"
      },
      "outputs": [
        {
          "data": {
            "text/plain": [
              "{'mse': 0.2631469950741542,\n",
              " 'mae': 0.40945145264267924,\n",
              " 'pearson_corr': 0.02983823910506629,\n",
              " 'spearman_corr': 0.007270407086018862,\n",
              " 'cosine_sim': 0.8820459842681885}"
            ]
          },
          "execution_count": 60,
          "metadata": {},
          "output_type": "execute_result"
        }
      ],
      "source": [
        "actual_labels = tokenized_test['labels'].tolist()\n",
        "predicted_classes = prediction.predictions.squeeze().tolist()\n",
        "res = compute_metrics2(actual_labels, predicted_classes)\n",
        "\n",
        "res"
      ]
    }
  ],
  "metadata": {
    "accelerator": "GPU",
    "colab": {
      "gpuType": "T4",
      "provenance": []
    },
    "kernelspec": {
      "display_name": "Python 3",
      "name": "python3"
    },
    "language_info": {
      "name": "python"
    }
  },
  "nbformat": 4,
  "nbformat_minor": 0
}
